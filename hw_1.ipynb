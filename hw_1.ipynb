{
 "cells": [
  {
   "attachments": {},
   "cell_type": "markdown",
   "id": "092bd7d7",
   "metadata": {},
   "source": [
    "# Hometask №1\n",
    "### Data processing & descriptors search"
   ]
  },
  {
   "cell_type": "code",
<<<<<<< Updated upstream
   "execution_count": 19,
=======
   "execution_count": null,
>>>>>>> Stashed changes
   "id": "2165a348",
   "metadata": {},
   "outputs": [],
   "source": [
    "import pandas as pd\n",
    "\n",
    "import numpy as np\n",
    "\n",
    "import re\n",
    "\n",
    "import rdkit\n",
    "from rdkit import Chem\n",
    "from rdkit.Chem import Descriptors\n",
    "from rdkit.Chem import rdMolDescriptors\n",
    "from rdkit.Chem import Descriptors3D\n",
    "from rdkit.Chem import rdDepictor\n",
    "from rdkit import RDLogger\n",
    "RDLogger.DisableLog('rdApp.*') # supress rdkit warnings\n",
    "\n",
    "import cirpy\n",
    "\n",
    "import pubchempy as pcp\n",
    "\n",
    "from mp_api.client import MPRester\n",
    "\n",
    "from bs4 import BeautifulSoup\n",
    "import requests\n",
    "\n",
    "from PaDEL_pywrapper import PaDEL\n",
<<<<<<< Updated upstream
    "from PaDEL_pywrapper import descriptors"
=======
    "from PaDEL_pywrapper import descriptors\n",
    "\n",
    "import string"
>>>>>>> Stashed changes
   ]
  },
  {
   "attachments": {},
   "cell_type": "markdown",
   "id": "7a2ee4c4",
   "metadata": {},
   "source": [
    "### Dataset"
   ]
  },
  {
   "cell_type": "code",
<<<<<<< Updated upstream
   "execution_count": 70,
=======
   "execution_count": 2,
>>>>>>> Stashed changes
   "id": "529cb78c",
   "metadata": {
    "scrolled": true
   },
   "outputs": [
    {
     "data": {
      "text/html": [
       "<div>\n",
       "<style scoped>\n",
       "    .dataframe tbody tr th:only-of-type {\n",
       "        vertical-align: middle;\n",
       "    }\n",
       "\n",
       "    .dataframe tbody tr th {\n",
       "        vertical-align: top;\n",
       "    }\n",
       "\n",
       "    .dataframe thead th {\n",
       "        text-align: right;\n",
       "    }\n",
       "</style>\n",
       "<table border=\"1\" class=\"dataframe\">\n",
       "  <thead>\n",
       "    <tr style=\"text-align: right;\">\n",
       "      <th></th>\n",
       "      <th>DOI</th>\n",
       "      <th>Date</th>\n",
       "      <th>Journal</th>\n",
       "      <th>Title</th>\n",
       "      <th>Name</th>\n",
       "      <th>measurement_error</th>\n",
       "      <th>measurement_wavelength</th>\n",
       "      <th>measurement_method</th>\n",
       "      <th>normalised_name</th>\n",
       "      <th>raw_value</th>\n",
       "      <th>specifier</th>\n",
       "    </tr>\n",
       "  </thead>\n",
       "  <tbody>\n",
       "    <tr>\n",
       "      <th>0</th>\n",
       "      <td>10.1016/j.physb.2010.04.052</td>\n",
       "      <td>4/29/2010</td>\n",
       "      <td>Physica B: Condensed Matter</td>\n",
       "      <td>EXCITONSPECTRAENERGYBANDSTRUCTURECUALS2CRYSTALS</td>\n",
       "      <td>CuGaSe2</td>\n",
       "      <td>0.0</td>\n",
       "      <td>NaN</td>\n",
       "      <td>el_cde_tables</td>\n",
       "      <td>[['Cu', 1.0], ['Ga', 1.0], ['Se', 2.0]]</td>\n",
       "      <td>1.8235</td>\n",
       "      <td>n</td>\n",
       "    </tr>\n",
       "    <tr>\n",
       "      <th>1</th>\n",
       "      <td>10.1016/j.jep.2012.08.025</td>\n",
       "      <td>8/29/2012</td>\n",
       "      <td>Journal of Ethnopharmacology</td>\n",
       "      <td>INVITROINVIVOANTIMICROBIALACTIVITYALGERIANHOGG...</td>\n",
       "      <td>WC</td>\n",
       "      <td>0.0</td>\n",
       "      <td>NaN</td>\n",
       "      <td>el_cde_tables</td>\n",
       "      <td>NaN</td>\n",
       "      <td>2.66</td>\n",
       "      <td>n</td>\n",
       "    </tr>\n",
       "    <tr>\n",
       "      <th>2</th>\n",
       "      <td>10.1016/j.physb.2011.08.013</td>\n",
       "      <td>8/18/2011</td>\n",
       "      <td>Physica B: Condensed Matter</td>\n",
       "      <td>OPTICALPROPERTIESGEASTETHINFILMS</td>\n",
       "      <td>Te–Te</td>\n",
       "      <td>0.0</td>\n",
       "      <td>NaN</td>\n",
       "      <td>el_mylogic</td>\n",
       "      <td>NaN</td>\n",
       "      <td>2.99</td>\n",
       "      <td>Refractive index parameters</td>\n",
       "    </tr>\n",
       "    <tr>\n",
       "      <th>3</th>\n",
       "      <td>10.1016/j.jnoncrysol.2011.04.001</td>\n",
       "      <td>5/3/2011</td>\n",
       "      <td>Journal of Non-Crystalline Solids</td>\n",
       "      <td>FOURIERTRANSFORMINFRAREDSPECTROSCOPYINVESTIGAT...</td>\n",
       "      <td>SiC</td>\n",
       "      <td>0.0</td>\n",
       "      <td>NaN</td>\n",
       "      <td>el_mylogic</td>\n",
       "      <td>NaN</td>\n",
       "      <td>2.55</td>\n",
       "      <td>RI (± 0.0001)</td>\n",
       "    </tr>\n",
       "    <tr>\n",
       "      <th>4</th>\n",
       "      <td>10.1039/C4PY00369A</td>\n",
       "      <td>8/12/2014</td>\n",
       "      <td>Polymer Chemistry</td>\n",
       "      <td>Camptothecin prodrug block copolymer micelles ...</td>\n",
       "      <td>CPT</td>\n",
       "      <td>0.0</td>\n",
       "      <td>NaN</td>\n",
       "      <td>rsc_cde_text</td>\n",
       "      <td>NaN</td>\n",
       "      <td>3</td>\n",
       "      <td>n</td>\n",
       "    </tr>\n",
       "    <tr>\n",
       "      <th>...</th>\n",
       "      <td>...</td>\n",
       "      <td>...</td>\n",
       "      <td>...</td>\n",
       "      <td>...</td>\n",
       "      <td>...</td>\n",
       "      <td>...</td>\n",
       "      <td>...</td>\n",
       "      <td>...</td>\n",
       "      <td>...</td>\n",
       "      <td>...</td>\n",
       "      <td>...</td>\n",
       "    </tr>\n",
       "    <tr>\n",
       "      <th>4995</th>\n",
       "      <td>10.1016/j.ejpb.2004.05.003</td>\n",
       "      <td>6/26/2004</td>\n",
       "      <td>European Journal of Pharmaceutics and Biopharm...</td>\n",
       "      <td>APPLYINGPATTERNRECOGNITIONMETHODSSTRUCTUREPROP...</td>\n",
       "      <td>Dihydropyridine</td>\n",
       "      <td>0.0</td>\n",
       "      <td>NaN</td>\n",
       "      <td>el_mylogic</td>\n",
       "      <td>NaN</td>\n",
       "      <td>1.679</td>\n",
       "      <td>Index of refraction</td>\n",
       "    </tr>\n",
       "    <tr>\n",
       "      <th>4996</th>\n",
       "      <td>10.1039/C4CS00424H</td>\n",
       "      <td>NaN</td>\n",
       "      <td>NaN</td>\n",
       "      <td>NaN</td>\n",
       "      <td>TiO2</td>\n",
       "      <td>0.0</td>\n",
       "      <td>NaN</td>\n",
       "      <td>snowball</td>\n",
       "      <td>[['O', 2.0], ['Ti', 1.0]]</td>\n",
       "      <td>2.5</td>\n",
       "      <td>refractive index</td>\n",
       "    </tr>\n",
       "    <tr>\n",
       "      <th>4997</th>\n",
       "      <td>10.1016/j.numecd.2015.10.010</td>\n",
       "      <td>11/14/2015</td>\n",
       "      <td>Nutrition, Metabolism and Cardiovascular Diseases</td>\n",
       "      <td>INCREASINGFRUITVEGETABLEINTAKENOEFFECTRETINALV...</td>\n",
       "      <td>cholesterol</td>\n",
       "      <td>0.0</td>\n",
       "      <td>NaN</td>\n",
       "      <td>el_cde_tables</td>\n",
       "      <td>CC(C)CCC[C@@H](C)[C@H]1CC[C@H]2[C@@H]3CC=C4C[C...</td>\n",
       "      <td>4.28</td>\n",
       "      <td>n</td>\n",
       "    </tr>\n",
       "    <tr>\n",
       "      <th>4998</th>\n",
       "      <td>10.1016/j.solmat.2010.03.020</td>\n",
       "      <td>4/1/2010</td>\n",
       "      <td>Solar Energy Materials and Solar Cells</td>\n",
       "      <td>DISCUSSIONELECTRICALCHARACTERISTICSIIN013GA087...</td>\n",
       "      <td>SiO2</td>\n",
       "      <td>0.0</td>\n",
       "      <td>NaN</td>\n",
       "      <td>el_mylogic</td>\n",
       "      <td>NaN</td>\n",
       "      <td>1.467</td>\n",
       "      <td>Refractive index</td>\n",
       "    </tr>\n",
       "    <tr>\n",
       "      <th>4999</th>\n",
       "      <td>10.1016/j.ijleo.2014.08.172</td>\n",
       "      <td>11/8/2014</td>\n",
       "      <td>Optik</td>\n",
       "      <td>ANALYSISDESIGNOPTICALBIOSENSORSUSINGONEDIMENSI...</td>\n",
       "      <td>silicon</td>\n",
       "      <td>0.0</td>\n",
       "      <td>NaN</td>\n",
       "      <td>el_cde_text</td>\n",
       "      <td>[SiH4]</td>\n",
       "      <td>1.98</td>\n",
       "      <td>refractive index</td>\n",
       "    </tr>\n",
       "  </tbody>\n",
       "</table>\n",
       "<p>5000 rows × 11 columns</p>\n",
       "</div>"
      ],
      "text/plain": [
       "                                   DOI        Date  \\\n",
       "0          10.1016/j.physb.2010.04.052   4/29/2010   \n",
       "1            10.1016/j.jep.2012.08.025   8/29/2012   \n",
       "2          10.1016/j.physb.2011.08.013   8/18/2011   \n",
       "3     10.1016/j.jnoncrysol.2011.04.001    5/3/2011   \n",
       "4                   10.1039/C4PY00369A   8/12/2014   \n",
       "...                                ...         ...   \n",
       "4995        10.1016/j.ejpb.2004.05.003   6/26/2004   \n",
       "4996                10.1039/C4CS00424H         NaN   \n",
       "4997      10.1016/j.numecd.2015.10.010  11/14/2015   \n",
       "4998      10.1016/j.solmat.2010.03.020    4/1/2010   \n",
       "4999       10.1016/j.ijleo.2014.08.172   11/8/2014   \n",
       "\n",
       "                                                Journal  \\\n",
       "0                           Physica B: Condensed Matter   \n",
       "1                          Journal of Ethnopharmacology   \n",
       "2                           Physica B: Condensed Matter   \n",
       "3                     Journal of Non-Crystalline Solids   \n",
       "4                                     Polymer Chemistry   \n",
       "...                                                 ...   \n",
       "4995  European Journal of Pharmaceutics and Biopharm...   \n",
       "4996                                                NaN   \n",
       "4997  Nutrition, Metabolism and Cardiovascular Diseases   \n",
       "4998             Solar Energy Materials and Solar Cells   \n",
       "4999                                              Optik   \n",
       "\n",
       "                                                  Title             Name  \\\n",
       "0       EXCITONSPECTRAENERGYBANDSTRUCTURECUALS2CRYSTALS          CuGaSe2   \n",
       "1     INVITROINVIVOANTIMICROBIALACTIVITYALGERIANHOGG...               WC   \n",
       "2                      OPTICALPROPERTIESGEASTETHINFILMS            Te–Te   \n",
       "3     FOURIERTRANSFORMINFRAREDSPECTROSCOPYINVESTIGAT...              SiC   \n",
       "4     Camptothecin prodrug block copolymer micelles ...              CPT   \n",
       "...                                                 ...              ...   \n",
       "4995  APPLYINGPATTERNRECOGNITIONMETHODSSTRUCTUREPROP...  Dihydropyridine   \n",
       "4996                                                NaN             TiO2   \n",
       "4997  INCREASINGFRUITVEGETABLEINTAKENOEFFECTRETINALV...      cholesterol   \n",
       "4998  DISCUSSIONELECTRICALCHARACTERISTICSIIN013GA087...             SiO2   \n",
       "4999  ANALYSISDESIGNOPTICALBIOSENSORSUSINGONEDIMENSI...          silicon   \n",
       "\n",
       "      measurement_error measurement_wavelength measurement_method  \\\n",
       "0                   0.0                    NaN      el_cde_tables   \n",
       "1                   0.0                    NaN      el_cde_tables   \n",
       "2                   0.0                    NaN         el_mylogic   \n",
       "3                   0.0                    NaN         el_mylogic   \n",
       "4                   0.0                    NaN       rsc_cde_text   \n",
       "...                 ...                    ...                ...   \n",
       "4995                0.0                    NaN         el_mylogic   \n",
       "4996                0.0                    NaN           snowball   \n",
       "4997                0.0                    NaN      el_cde_tables   \n",
       "4998                0.0                    NaN         el_mylogic   \n",
       "4999                0.0                    NaN        el_cde_text   \n",
       "\n",
       "                                        normalised_name raw_value  \\\n",
       "0               [['Cu', 1.0], ['Ga', 1.0], ['Se', 2.0]]    1.8235   \n",
       "1                                                   NaN      2.66   \n",
       "2                                                   NaN      2.99   \n",
       "3                                                   NaN      2.55   \n",
       "4                                                   NaN         3   \n",
       "...                                                 ...       ...   \n",
       "4995                                                NaN     1.679   \n",
       "4996                          [['O', 2.0], ['Ti', 1.0]]       2.5   \n",
       "4997  CC(C)CCC[C@@H](C)[C@H]1CC[C@H]2[C@@H]3CC=C4C[C...      4.28   \n",
       "4998                                                NaN     1.467   \n",
       "4999                                             [SiH4]      1.98   \n",
       "\n",
       "                        specifier  \n",
       "0                               n  \n",
       "1                               n  \n",
       "2     Refractive index parameters  \n",
       "3                   RI (± 0.0001)  \n",
       "4                               n  \n",
       "...                           ...  \n",
       "4995          Index of refraction  \n",
       "4996             refractive index  \n",
       "4997                            n  \n",
       "4998             Refractive index  \n",
       "4999             refractive index  \n",
       "\n",
       "[5000 rows x 11 columns]"
      ]
     },
<<<<<<< Updated upstream
     "execution_count": 70,
=======
     "execution_count": 2,
>>>>>>> Stashed changes
     "metadata": {},
     "output_type": "execute_result"
    }
   ],
   "source": [
    "data = pd.read_csv(\"C:\\\\Users\\\\User\\Downloads\\\\1.csv\", sep=',')\n",
    "data"
   ]
  },
  {
   "cell_type": "code",
<<<<<<< Updated upstream
   "execution_count": 71,
=======
   "execution_count": 3,
>>>>>>> Stashed changes
   "id": "4335f473",
   "metadata": {},
   "outputs": [
    {
     "name": "stdout",
     "output_type": "stream",
     "text": [
      "<class 'pandas.core.frame.DataFrame'>\n",
      "RangeIndex: 5000 entries, 0 to 4999\n",
      "Data columns (total 11 columns):\n",
      " #   Column                  Non-Null Count  Dtype  \n",
      "---  ------                  --------------  -----  \n",
      " 0   DOI                     5000 non-null   object \n",
      " 1   Date                    4555 non-null   object \n",
      " 2   Journal                 4555 non-null   object \n",
      " 3   Title                   4555 non-null   object \n",
      " 4   Name                    4992 non-null   object \n",
      " 5   measurement_error       5000 non-null   float64\n",
      " 6   measurement_wavelength  597 non-null    object \n",
      " 7   measurement_method      5000 non-null   object \n",
      " 8   normalised_name         2994 non-null   object \n",
      " 9   raw_value               5000 non-null   object \n",
      " 10  specifier               5000 non-null   object \n",
      "dtypes: float64(1), object(10)\n",
      "memory usage: 429.8+ KB\n"
     ]
    }
   ],
   "source": [
    "data.info()"
   ]
  },
  {
   "attachments": {},
   "cell_type": "markdown",
   "id": "d282dc3f",
   "metadata": {},
   "source": [
    "### Handling duplicates"
   ]
  },
  {
   "cell_type": "code",
<<<<<<< Updated upstream
   "execution_count": 72,
=======
   "execution_count": 4,
>>>>>>> Stashed changes
   "id": "b6facc20",
   "metadata": {},
   "outputs": [
    {
     "data": {
      "text/plain": [
       "22"
      ]
     },
<<<<<<< Updated upstream
     "execution_count": 72,
=======
     "execution_count": 4,
>>>>>>> Stashed changes
     "metadata": {},
     "output_type": "execute_result"
    }
   ],
   "source": [
    "# number of duplicated rows\n",
    "data.duplicated().sum()"
   ]
  },
  {
   "cell_type": "code",
<<<<<<< Updated upstream
   "execution_count": 73,
=======
   "execution_count": 5,
>>>>>>> Stashed changes
   "id": "6489897f",
   "metadata": {},
   "outputs": [
    {
     "data": {
      "text/plain": [
       "(4978, 11)"
      ]
     },
<<<<<<< Updated upstream
     "execution_count": 73,
=======
     "execution_count": 5,
>>>>>>> Stashed changes
     "metadata": {},
     "output_type": "execute_result"
    }
   ],
   "source": [
    "# delete duplicates\n",
    "data = data.drop_duplicates()\n",
    "data.shape"
   ]
  },
  {
   "attachments": {},
   "cell_type": "markdown",
   "id": "c9833198",
   "metadata": {},
   "source": [
    "### Handling missing values"
   ]
  },
  {
   "cell_type": "code",
<<<<<<< Updated upstream
   "execution_count": 74,
=======
   "execution_count": 6,
>>>>>>> Stashed changes
   "id": "4b149688",
   "metadata": {
    "scrolled": true
   },
   "outputs": [
    {
     "data": {
      "text/plain": [
       "DOI                        0.000000\n",
       "Date                       8.919245\n",
       "Journal                    8.919245\n",
       "Title                      8.919245\n",
       "Name                       0.160707\n",
       "measurement_error          0.000000\n",
       "measurement_wavelength    88.027320\n",
       "measurement_method         0.000000\n",
       "normalised_name           40.116513\n",
       "raw_value                  0.000000\n",
       "specifier                  0.000000\n",
       "dtype: float64"
      ]
     },
<<<<<<< Updated upstream
     "execution_count": 74,
=======
     "execution_count": 6,
>>>>>>> Stashed changes
     "metadata": {},
     "output_type": "execute_result"
    }
   ],
   "source": [
    "# % of missing values for every column\n",
    "data.isnull().sum() / data.shape[0] * 100"
   ]
  },
  {
   "cell_type": "code",
<<<<<<< Updated upstream
   "execution_count": 75,
=======
   "execution_count": 9,
   "id": "be703e21",
   "metadata": {},
   "outputs": [
    {
     "data": {
      "text/plain": [
       "9                CCCO\n",
       "3238        CCOC(C)=O\n",
       "3266        Cc1ccccc1\n",
       "3468      CCCCC(CC)CO\n",
       "3761    Nc1cccc(Cl)c1\n",
       "4026         O=[Si]=O\n",
       "4230          CC(C)=O\n",
       "4233        Nc1ccccc1\n",
       "Name: normalised_name, dtype: object"
      ]
     },
     "execution_count": 9,
     "metadata": {},
     "output_type": "execute_result"
    }
   ],
   "source": [
    "data_no_name = data[data['Name'].isna()==True]\n",
    "data_no_name['normalised_name']"
   ]
  },
  {
   "attachments": {},
   "cell_type": "markdown",
   "id": "c4c85e33",
   "metadata": {},
   "source": [
    "We see that all missing names have SMILES in \"normalised_name\" column. So, we can obtain chemical formulas by SMILES with the help of CIRpy library."
   ]
  },
  {
   "cell_type": "code",
   "execution_count": 10,
>>>>>>> Stashed changes
   "id": "ba2df8f7",
   "metadata": {},
   "outputs": [
    {
     "name": "stdout",
     "output_type": "stream",
     "text": [
<<<<<<< Updated upstream
      "<class 'pandas.core.frame.DataFrame'>\n",
      "Int64Index: 4978 entries, 0 to 4999\n",
      "Data columns (total 11 columns):\n",
      " #   Column                  Non-Null Count  Dtype  \n",
      "---  ------                  --------------  -----  \n",
      " 0   DOI                     4978 non-null   object \n",
      " 1   Date                    4534 non-null   object \n",
      " 2   Journal                 4534 non-null   object \n",
      " 3   Title                   4534 non-null   object \n",
      " 4   Name                    4978 non-null   object \n",
      " 5   measurement_error       4978 non-null   float64\n",
      " 6   measurement_wavelength  596 non-null    object \n",
      " 7   measurement_method      4978 non-null   object \n",
      " 8   normalised_name         2981 non-null   object \n",
      " 9   raw_value               4978 non-null   object \n",
      " 10  specifier               4978 non-null   object \n",
      "dtypes: float64(1), object(10)\n",
      "memory usage: 595.7+ KB\n"
=======
      "CCCO C3H8O\n",
      "CCOC(C)=O C4H8O2\n",
      "Cc1ccccc1 C7H8\n",
      "CCCCC(CC)CO C8H18O\n",
      "Nc1cccc(Cl)c1 C6H6ClN\n",
      "O=[Si]=O O2Si\n",
      "CC(C)=O C3H6O\n",
      "Nc1ccccc1 C6H7N\n"
>>>>>>> Stashed changes
     ]
    }
   ],
   "source": [
    "# fill in gaps in \"Name\" column\n",
    "for idx in data.index:\n",
    "    if type(data.loc[idx, 'Name'])!=str:\n",
    "        norm_name = data.loc[idx, 'normalised_name']\n",
<<<<<<< Updated upstream
    "        new_name = cirpy.resolve(norm_name, 'iupac_name')\n",
    "        data.at[idx, 'Name'] = new_name\n",
    "len(data['Name']) # check how many names we managed to obtain"
=======
    "        new_name = cirpy.resolve(norm_name, 'formula')\n",
    "        data.at[idx, 'Name'] = new_name\n",
    "        print(norm_name, new_name)"
>>>>>>> Stashed changes
   ]
  },
  {
   "cell_type": "code",
   "execution_count": 77,
   "id": "55e43997",
   "metadata": {},
   "outputs": [],
   "source": [
    "# fill in gaps in \"normalised_name\" column + convert everything to SMILES format\n",
    "for idx in data.index:\n",
    "    name = data.loc[idx, 'Name']\n",
    "    try:\n",
<<<<<<< Updated upstream
    "        try:\n",
    "            smiles = pcp.get_compounds(name, 'formula')[0].isomeric_smiles\n",
    "        except:\n",
    "            pass\n",
    "    except:\n",
    "        try:\n",
    "            smiles = pcp.get_compounds(name, 'name')[0].isomeric_smiles\n",
    "        except:\n",
    "            pass\n",
    "    data.at[idx, 'normalised_name'] = smiles\n",
    "data.info() # check how many SMILES we obtained"
=======
    "        smiles = pcp.get_compounds(name, 'formula')[0].isomeric_smiles\n",
    "        data.at[idx, 'normalised_name'] = smiles\n",
    "    except:\n",
    "        try:\n",
    "            smiles = pcp.get_compounds(name, 'name')[0].isomeric_smiles\n",
    "            data.at[idx, 'normalised_name'] = smiles\n",
    "        except:\n",
    "            data.at[idx, 'normalised_name'] = np.nan"
>>>>>>> Stashed changes
   ]
  },
  {
   "cell_type": "code",
<<<<<<< Updated upstream
   "execution_count": null,
   "id": "be41f205",
   "metadata": {},
   "outputs": [],
   "source": [
    "# check if all the SMILES are valid (invalid SMILES can not be handled by RDKit)\n",
    "for smiles in data['normalised_name'].tolist():\n",
    "    mol = Chem.MolFromSmiles(smiles)\n",
    "    if mol == None:\n",
    "        print(f'Invalid smiles: {smiles}')"
   ]
  },
  {
   "cell_type": "code",
   "execution_count": 10,
   "id": "174f2cb1",
=======
   "execution_count": 21,
   "id": "715fa174",
>>>>>>> Stashed changes
   "metadata": {},
   "outputs": [
    {
     "data": {
      "text/html": [
       "<div>\n",
       "<style scoped>\n",
       "    .dataframe tbody tr th:only-of-type {\n",
       "        vertical-align: middle;\n",
       "    }\n",
       "\n",
       "    .dataframe tbody tr th {\n",
       "        vertical-align: top;\n",
       "    }\n",
       "\n",
       "    .dataframe thead th {\n",
       "        text-align: right;\n",
       "    }\n",
       "</style>\n",
       "<table border=\"1\" class=\"dataframe\">\n",
       "  <thead>\n",
       "    <tr style=\"text-align: right;\">\n",
       "      <th></th>\n",
       "      <th>DOI</th>\n",
       "      <th>Date</th>\n",
       "      <th>Journal</th>\n",
       "      <th>Title</th>\n",
       "      <th>Name</th>\n",
       "      <th>measurement_error</th>\n",
       "      <th>measurement_wavelength</th>\n",
       "      <th>measurement_method</th>\n",
       "      <th>normalised_name</th>\n",
       "      <th>raw_value</th>\n",
       "      <th>specifier</th>\n",
       "    </tr>\n",
       "  </thead>\n",
       "  <tbody>\n",
       "    <tr>\n",
       "      <th>0</th>\n",
       "      <td>10.1016/j.physb.2010.04.052</td>\n",
       "      <td>4/29/2010</td>\n",
       "      <td>Physica B: Condensed Matter</td>\n",
       "      <td>EXCITONSPECTRAENERGYBANDSTRUCTURECUALS2CRYSTALS</td>\n",
       "      <td>CuGaSe2</td>\n",
       "      <td>0.0</td>\n",
       "      <td>NaN</td>\n",
       "      <td>el_cde_tables</td>\n",
<<<<<<< Updated upstream
       "      <td>None</td>\n",
=======
       "      <td>[Cu+2].[Ga].[Se-2].[Se-2]</td>\n",
>>>>>>> Stashed changes
       "      <td>1.8235</td>\n",
       "      <td>n</td>\n",
       "    </tr>\n",
       "    <tr>\n",
       "      <th>1</th>\n",
       "      <td>10.1016/j.jep.2012.08.025</td>\n",
       "      <td>8/29/2012</td>\n",
       "      <td>Journal of Ethnopharmacology</td>\n",
       "      <td>INVITROINVIVOANTIMICROBIALACTIVITYALGERIANHOGG...</td>\n",
       "      <td>WC</td>\n",
       "      <td>0.0</td>\n",
       "      <td>NaN</td>\n",
       "      <td>el_cde_tables</td>\n",
<<<<<<< Updated upstream
       "      <td>[CH2][W]</td>\n",
=======
       "      <td>[C-]#[W+]</td>\n",
>>>>>>> Stashed changes
       "      <td>2.66</td>\n",
       "      <td>n</td>\n",
       "    </tr>\n",
       "    <tr>\n",
       "      <th>2</th>\n",
       "      <td>10.1016/j.physb.2011.08.013</td>\n",
       "      <td>8/18/2011</td>\n",
       "      <td>Physica B: Condensed Matter</td>\n",
       "      <td>OPTICALPROPERTIESGEASTETHINFILMS</td>\n",
       "      <td>Te–Te</td>\n",
       "      <td>0.0</td>\n",
       "      <td>NaN</td>\n",
       "      <td>el_mylogic</td>\n",
<<<<<<< Updated upstream
       "      <td>None</td>\n",
=======
       "      <td>[C-]#[W+]</td>\n",
>>>>>>> Stashed changes
       "      <td>2.99</td>\n",
       "      <td>Refractive index parameters</td>\n",
       "    </tr>\n",
       "    <tr>\n",
       "      <th>3</th>\n",
       "      <td>10.1016/j.jnoncrysol.2011.04.001</td>\n",
       "      <td>5/3/2011</td>\n",
       "      <td>Journal of Non-Crystalline Solids</td>\n",
       "      <td>FOURIERTRANSFORMINFRAREDSPECTROSCOPYINVESTIGAT...</td>\n",
       "      <td>SiC</td>\n",
       "      <td>0.0</td>\n",
       "      <td>NaN</td>\n",
       "      <td>el_mylogic</td>\n",
<<<<<<< Updated upstream
       "      <td>C=[SiH2]</td>\n",
=======
       "      <td>[C-]#[Si+]</td>\n",
>>>>>>> Stashed changes
       "      <td>2.55</td>\n",
       "      <td>RI (± 0.0001)</td>\n",
       "    </tr>\n",
       "    <tr>\n",
       "      <th>4</th>\n",
       "      <td>10.1039/C4PY00369A</td>\n",
       "      <td>8/12/2014</td>\n",
       "      <td>Polymer Chemistry</td>\n",
       "      <td>Camptothecin prodrug block copolymer micelles ...</td>\n",
       "      <td>CPT</td>\n",
       "      <td>0.0</td>\n",
       "      <td>NaN</td>\n",
       "      <td>rsc_cde_text</td>\n",
<<<<<<< Updated upstream
       "      <td>[NH3-].[NH3-].[Pt++]</td>\n",
=======
       "      <td>[C-]#[Si+]</td>\n",
>>>>>>> Stashed changes
       "      <td>3</td>\n",
       "      <td>n</td>\n",
       "    </tr>\n",
       "    <tr>\n",
       "      <th>...</th>\n",
       "      <td>...</td>\n",
       "      <td>...</td>\n",
       "      <td>...</td>\n",
       "      <td>...</td>\n",
       "      <td>...</td>\n",
       "      <td>...</td>\n",
       "      <td>...</td>\n",
       "      <td>...</td>\n",
       "      <td>...</td>\n",
       "      <td>...</td>\n",
       "      <td>...</td>\n",
       "    </tr>\n",
       "    <tr>\n",
<<<<<<< Updated upstream
       "      <th>4995</th>\n",
=======
       "      <th>4973</th>\n",
>>>>>>> Stashed changes
       "      <td>10.1016/j.ejpb.2004.05.003</td>\n",
       "      <td>6/26/2004</td>\n",
       "      <td>European Journal of Pharmaceutics and Biopharm...</td>\n",
       "      <td>APPLYINGPATTERNRECOGNITIONMETHODSSTRUCTUREPROP...</td>\n",
       "      <td>Dihydropyridine</td>\n",
       "      <td>0.0</td>\n",
       "      <td>NaN</td>\n",
       "      <td>el_mylogic</td>\n",
<<<<<<< Updated upstream
       "      <td>C1NC=CC=C1</td>\n",
=======
       "      <td>[Li+].[Te]</td>\n",
>>>>>>> Stashed changes
       "      <td>1.679</td>\n",
       "      <td>Index of refraction</td>\n",
       "    </tr>\n",
       "    <tr>\n",
<<<<<<< Updated upstream
       "      <th>4996</th>\n",
=======
       "      <th>4974</th>\n",
>>>>>>> Stashed changes
       "      <td>10.1039/C4CS00424H</td>\n",
       "      <td>NaN</td>\n",
       "      <td>NaN</td>\n",
       "      <td>NaN</td>\n",
       "      <td>TiO2</td>\n",
       "      <td>0.0</td>\n",
       "      <td>NaN</td>\n",
       "      <td>snowball</td>\n",
       "      <td>O=[Ti]=O</td>\n",
       "      <td>2.5</td>\n",
       "      <td>refractive index</td>\n",
       "    </tr>\n",
       "    <tr>\n",
<<<<<<< Updated upstream
       "      <th>4997</th>\n",
=======
       "      <th>4975</th>\n",
>>>>>>> Stashed changes
       "      <td>10.1016/j.numecd.2015.10.010</td>\n",
       "      <td>11/14/2015</td>\n",
       "      <td>Nutrition, Metabolism and Cardiovascular Diseases</td>\n",
       "      <td>INCREASINGFRUITVEGETABLEINTAKENOEFFECTRETINALV...</td>\n",
       "      <td>cholesterol</td>\n",
       "      <td>0.0</td>\n",
       "      <td>NaN</td>\n",
       "      <td>el_cde_tables</td>\n",
<<<<<<< Updated upstream
       "      <td>CC(C)CCC[C@@H](C)[C@H]1CC[C@H]2[C@@H]3CC=C4C[C...</td>\n",
=======
       "      <td>O=[Ti]=O</td>\n",
>>>>>>> Stashed changes
       "      <td>4.28</td>\n",
       "      <td>n</td>\n",
       "    </tr>\n",
       "    <tr>\n",
<<<<<<< Updated upstream
       "      <th>4998</th>\n",
=======
       "      <th>4976</th>\n",
>>>>>>> Stashed changes
       "      <td>10.1016/j.solmat.2010.03.020</td>\n",
       "      <td>4/1/2010</td>\n",
       "      <td>Solar Energy Materials and Solar Cells</td>\n",
       "      <td>DISCUSSIONELECTRICALCHARACTERISTICSIIN013GA087...</td>\n",
       "      <td>SiO2</td>\n",
       "      <td>0.0</td>\n",
       "      <td>NaN</td>\n",
       "      <td>el_mylogic</td>\n",
<<<<<<< Updated upstream
       "      <td>None</td>\n",
=======
       "      <td>O=[Si]=O</td>\n",
>>>>>>> Stashed changes
       "      <td>1.467</td>\n",
       "      <td>Refractive index</td>\n",
       "    </tr>\n",
       "    <tr>\n",
<<<<<<< Updated upstream
       "      <th>4999</th>\n",
=======
       "      <th>4977</th>\n",
>>>>>>> Stashed changes
       "      <td>10.1016/j.ijleo.2014.08.172</td>\n",
       "      <td>11/8/2014</td>\n",
       "      <td>Optik</td>\n",
       "      <td>ANALYSISDESIGNOPTICALBIOSENSORSUSINGONEDIMENSI...</td>\n",
       "      <td>silicon</td>\n",
       "      <td>0.0</td>\n",
       "      <td>NaN</td>\n",
       "      <td>el_cde_text</td>\n",
<<<<<<< Updated upstream
       "      <td>[SiH4]</td>\n",
=======
       "      <td>O=[Si]=O</td>\n",
>>>>>>> Stashed changes
       "      <td>1.98</td>\n",
       "      <td>refractive index</td>\n",
       "    </tr>\n",
       "  </tbody>\n",
       "</table>\n",
       "<p>4978 rows × 11 columns</p>\n",
       "</div>"
      ],
      "text/plain": [
       "                                   DOI        Date  \\\n",
       "0          10.1016/j.physb.2010.04.052   4/29/2010   \n",
       "1            10.1016/j.jep.2012.08.025   8/29/2012   \n",
       "2          10.1016/j.physb.2011.08.013   8/18/2011   \n",
       "3     10.1016/j.jnoncrysol.2011.04.001    5/3/2011   \n",
       "4                   10.1039/C4PY00369A   8/12/2014   \n",
       "...                                ...         ...   \n",
<<<<<<< Updated upstream
       "4995        10.1016/j.ejpb.2004.05.003   6/26/2004   \n",
       "4996                10.1039/C4CS00424H         NaN   \n",
       "4997      10.1016/j.numecd.2015.10.010  11/14/2015   \n",
       "4998      10.1016/j.solmat.2010.03.020    4/1/2010   \n",
       "4999       10.1016/j.ijleo.2014.08.172   11/8/2014   \n",
=======
       "4973        10.1016/j.ejpb.2004.05.003   6/26/2004   \n",
       "4974                10.1039/C4CS00424H         NaN   \n",
       "4975      10.1016/j.numecd.2015.10.010  11/14/2015   \n",
       "4976      10.1016/j.solmat.2010.03.020    4/1/2010   \n",
       "4977       10.1016/j.ijleo.2014.08.172   11/8/2014   \n",
>>>>>>> Stashed changes
       "\n",
       "                                                Journal  \\\n",
       "0                           Physica B: Condensed Matter   \n",
       "1                          Journal of Ethnopharmacology   \n",
       "2                           Physica B: Condensed Matter   \n",
       "3                     Journal of Non-Crystalline Solids   \n",
       "4                                     Polymer Chemistry   \n",
       "...                                                 ...   \n",
<<<<<<< Updated upstream
       "4995  European Journal of Pharmaceutics and Biopharm...   \n",
       "4996                                                NaN   \n",
       "4997  Nutrition, Metabolism and Cardiovascular Diseases   \n",
       "4998             Solar Energy Materials and Solar Cells   \n",
       "4999                                              Optik   \n",
=======
       "4973  European Journal of Pharmaceutics and Biopharm...   \n",
       "4974                                                NaN   \n",
       "4975  Nutrition, Metabolism and Cardiovascular Diseases   \n",
       "4976             Solar Energy Materials and Solar Cells   \n",
       "4977                                              Optik   \n",
>>>>>>> Stashed changes
       "\n",
       "                                                  Title             Name  \\\n",
       "0       EXCITONSPECTRAENERGYBANDSTRUCTURECUALS2CRYSTALS          CuGaSe2   \n",
       "1     INVITROINVIVOANTIMICROBIALACTIVITYALGERIANHOGG...               WC   \n",
       "2                      OPTICALPROPERTIESGEASTETHINFILMS            Te–Te   \n",
       "3     FOURIERTRANSFORMINFRAREDSPECTROSCOPYINVESTIGAT...              SiC   \n",
       "4     Camptothecin prodrug block copolymer micelles ...              CPT   \n",
       "...                                                 ...              ...   \n",
<<<<<<< Updated upstream
       "4995  APPLYINGPATTERNRECOGNITIONMETHODSSTRUCTUREPROP...  Dihydropyridine   \n",
       "4996                                                NaN             TiO2   \n",
       "4997  INCREASINGFRUITVEGETABLEINTAKENOEFFECTRETINALV...      cholesterol   \n",
       "4998  DISCUSSIONELECTRICALCHARACTERISTICSIIN013GA087...             SiO2   \n",
       "4999  ANALYSISDESIGNOPTICALBIOSENSORSUSINGONEDIMENSI...          silicon   \n",
=======
       "4973  APPLYINGPATTERNRECOGNITIONMETHODSSTRUCTUREPROP...  Dihydropyridine   \n",
       "4974                                                NaN             TiO2   \n",
       "4975  INCREASINGFRUITVEGETABLEINTAKENOEFFECTRETINALV...      cholesterol   \n",
       "4976  DISCUSSIONELECTRICALCHARACTERISTICSIIN013GA087...             SiO2   \n",
       "4977  ANALYSISDESIGNOPTICALBIOSENSORSUSINGONEDIMENSI...          silicon   \n",
>>>>>>> Stashed changes
       "\n",
       "      measurement_error measurement_wavelength measurement_method  \\\n",
       "0                   0.0                    NaN      el_cde_tables   \n",
       "1                   0.0                    NaN      el_cde_tables   \n",
       "2                   0.0                    NaN         el_mylogic   \n",
       "3                   0.0                    NaN         el_mylogic   \n",
       "4                   0.0                    NaN       rsc_cde_text   \n",
       "...                 ...                    ...                ...   \n",
<<<<<<< Updated upstream
       "4995                0.0                    NaN         el_mylogic   \n",
       "4996                0.0                    NaN           snowball   \n",
       "4997                0.0                    NaN      el_cde_tables   \n",
       "4998                0.0                    NaN         el_mylogic   \n",
       "4999                0.0                    NaN        el_cde_text   \n",
       "\n",
       "                                        normalised_name raw_value  \\\n",
       "0                                                  None    1.8235   \n",
       "1                                              [CH2][W]      2.66   \n",
       "2                                                  None      2.99   \n",
       "3                                              C=[SiH2]      2.55   \n",
       "4                                  [NH3-].[NH3-].[Pt++]         3   \n",
       "...                                                 ...       ...   \n",
       "4995                                         C1NC=CC=C1     1.679   \n",
       "4996                                           O=[Ti]=O       2.5   \n",
       "4997  CC(C)CCC[C@@H](C)[C@H]1CC[C@H]2[C@@H]3CC=C4C[C...      4.28   \n",
       "4998                                               None     1.467   \n",
       "4999                                             [SiH4]      1.98   \n",
       "\n",
       "                        specifier  \n",
       "0                               n  \n",
       "1                               n  \n",
       "2     Refractive index parameters  \n",
       "3                   RI (± 0.0001)  \n",
       "4                               n  \n",
       "...                           ...  \n",
       "4995          Index of refraction  \n",
       "4996             refractive index  \n",
       "4997                            n  \n",
       "4998             Refractive index  \n",
       "4999             refractive index  \n",
=======
       "4973                0.0                    NaN         el_mylogic   \n",
       "4974                0.0                    NaN           snowball   \n",
       "4975                0.0                    NaN      el_cde_tables   \n",
       "4976                0.0                    NaN         el_mylogic   \n",
       "4977                0.0                    NaN        el_cde_text   \n",
       "\n",
       "                normalised_name raw_value                    specifier  \n",
       "0     [Cu+2].[Ga].[Se-2].[Se-2]    1.8235                            n  \n",
       "1                     [C-]#[W+]      2.66                            n  \n",
       "2                     [C-]#[W+]      2.99  Refractive index parameters  \n",
       "3                    [C-]#[Si+]      2.55                RI (± 0.0001)  \n",
       "4                    [C-]#[Si+]         3                            n  \n",
       "...                         ...       ...                          ...  \n",
       "4973                 [Li+].[Te]     1.679          Index of refraction  \n",
       "4974                   O=[Ti]=O       2.5             refractive index  \n",
       "4975                   O=[Ti]=O      4.28                            n  \n",
       "4976                   O=[Si]=O     1.467             Refractive index  \n",
       "4977                   O=[Si]=O      1.98             refractive index  \n",
>>>>>>> Stashed changes
       "\n",
       "[4978 rows x 11 columns]"
      ]
     },
<<<<<<< Updated upstream
     "execution_count": 10,
=======
     "execution_count": 21,
>>>>>>> Stashed changes
     "metadata": {},
     "output_type": "execute_result"
    }
   ],
   "source": [
<<<<<<< Updated upstream
    "data"
   ]
  },
  {
   "attachments": {},
   "cell_type": "markdown",
   "id": "657984d3",
   "metadata": {},
   "source": [
    "### Fixing the DOI column"
   ]
  },
  {
   "cell_type": "markdown",
   "id": "aab0fd2f",
   "metadata": {},
   "source": [
    "To separate the column with DOI we applied regular expressions (regex)"
=======
    "data = pd.read_csv(\"C:\\\\Users\\\\User\\Downloads\\\\data.csv\", sep=',')\n",
    "data"
>>>>>>> Stashed changes
   ]
  },
  {
   "cell_type": "code",
<<<<<<< Updated upstream
=======
   "execution_count": null,
   "id": "be41f205",
   "metadata": {},
   "outputs": [],
   "source": [
    "# check if all the SMILES are valid (invalid SMILES can not be handled by RDKit)\n",
    "\n",
    "for smiles in data['normalised_name'].tolist():\n",
    "    mol = Chem.MolFromSmiles(smiles)\n",
    "    if mol == None:\n",
    "        print(f'Invalid smiles: {smiles}')"
   ]
  },
  {
   "attachments": {},
   "cell_type": "markdown",
   "id": "657984d3",
   "metadata": {},
   "source": [
    "### Fixing the DOI column"
   ]
  },
  {
   "cell_type": "markdown",
   "id": "aab0fd2f",
   "metadata": {},
   "source": [
    "To separate the column with DOI we applied regular expressions (regex)"
   ]
  },
  {
   "cell_type": "code",
>>>>>>> Stashed changes
   "execution_count": 45,
   "id": "64064a12",
   "metadata": {},
   "outputs": [
    {
     "name": "stdout",
     "output_type": "stream",
     "text": [
      "<class 'pandas.core.frame.DataFrame'>\n",
      "Int64Index: 4978 entries, 0 to 4999\n",
      "Data columns (total 11 columns):\n",
      " #   Column                  Non-Null Count  Dtype  \n",
      "---  ------                  --------------  -----  \n",
      " 0   doi                     4978 non-null   object \n",
      " 1   Date                    4534 non-null   object \n",
      " 2   Journal                 4534 non-null   object \n",
      " 3   Title                   4534 non-null   object \n",
      " 4   Name                    4970 non-null   object \n",
      " 5   measurement_error       4978 non-null   float64\n",
      " 6   measurement_wavelength  596 non-null    object \n",
      " 7   measurement_method      4978 non-null   object \n",
      " 8   normalised_name         2981 non-null   object \n",
      " 9   raw_value               4978 non-null   object \n",
      " 10  specifier               4978 non-null   object \n",
      "dtypes: float64(1), object(10)\n",
      "memory usage: 466.7+ KB\n"
     ]
    }
   ],
   "source": [
    "regex = (r'((10\\.\\d{4,9}/[A-Z0-9]+[A-Z])|(10\\.\\d{4,9}/[-._;()/:a-zA-Z0-9]+[0-9]))')\n",
    "data_doi = data['DOI'].str.extract(regex)\n",
    "data_doi = data_doi.drop(columns = [1,2])\n",
    "data = pd.concat([data_doi, data], axis = 1).rename(columns = {0:'doi'}).drop(columns = \"DOI\")\n",
    "data.info()"
   ]
  },
  {
   "cell_type": "code",
   "execution_count": 51,
   "id": "cfec5398",
   "metadata": {},
   "outputs": [
    {
     "name": "stdout",
     "output_type": "stream",
     "text": [
      "<class 'pandas.core.frame.DataFrame'>\n",
      "Int64Index: 4978 entries, 0 to 4999\n",
      "Data columns (total 11 columns):\n",
      " #   Column                  Non-Null Count  Dtype  \n",
      "---  ------                  --------------  -----  \n",
      " 0   doi                     4978 non-null   object \n",
      " 1   Date                    4534 non-null   object \n",
      " 2   Journal                 4534 non-null   object \n",
      " 3   Title                   4534 non-null   object \n",
      " 4   Name                    4970 non-null   object \n",
      " 5   measurement_error       4978 non-null   float64\n",
      " 6   measurement_wavelength  596 non-null    object \n",
      " 7   measurement_method      4978 non-null   object \n",
      " 8   normalised_name         2981 non-null   object \n",
      " 9   raw_value               4978 non-null   object \n",
      " 10  specifier               4978 non-null   object \n",
      "dtypes: float64(1), object(10)\n",
      "memory usage: 595.7+ KB\n"
     ]
    }
   ],
   "source": [
    "# parse titles of articles from GoogleScholar by their doi\n",
    "for idx in data.index:\n",
    "    title = data.loc[idx, 'Title']\n",
    "    doi = data.loc[idx, 'doi']\n",
    "    if type(title)!=str:\n",
    "        doi = doi.replace('/', '%2F')\n",
    "        url = f'https://scholar.google.ru/scholar?hl=ru&as_sdt=0%2C5&q={doi}&btnG='\n",
    "        response = requests.get(url)\n",
    "        if response.status_code == 200:\n",
    "            soup = BeautifulSoup(response.text, 'lxml')\n",
    "            title = soup.find('h3', class_='gs_rt')\n",
    "            data.loc[idx, 'Title'] = title.text\n",
    "data.info()"
   ]
  },
  {
   "attachments": {},
   "cell_type": "markdown",
   "id": "91f1e8c7",
   "metadata": {},
   "source": [
    "### Descriptors search"
   ]
  },
  {
<<<<<<< Updated upstream
   "cell_type": "code",
   "execution_count": null,
   "id": "3c786adf",
   "metadata": {},
   "outputs": [],
   "source": [
    "# 200 descriptors from RDKit\n",
    "for smiles in data['normalised_name'].tolist():\n",
    "  descriptors_list = []\n",
    "  if type(smiles)==str:\n",
    "    mol = Chem.MolFromSmiles(smiles)\n",
    "    if mol!=None:\n",
    "      descriptors_list = [Descriptors.ExactMolWt(mol),\n",
    "                            Descriptors.HeavyAtomMolWt(mol),\n",
    "                            Descriptors.MaxPartialCharge(mol),\n",
    "                            Descriptors.MinPartialCharge(mol),\n",
    "                            Descriptors.NumRadicalElectrons(mol),\n",
    "                            Descriptors.NumValenceElectrons(mol),\n",
    "                            Descriptors.MolMR(mol),\n",
    "                            Descriptors.MolLogP(mol),\n",
    "                            Descriptors.NumHAcceptors(mol),\n",
    "                            Descriptors.NumHDonors(mol),\n",
    "                            Descriptors.HeavyAtomCount(mol),\n",
    "                            Descriptors.RingCount(mol),\n",
    "                            Descriptors.FractionCSP3(mol),\n",
    "                            Descriptors.TPSA(mol),\n",
    "                            Descriptors.LabuteASA(mol),\n",
    "                            Descriptors.PEOE_VSA1(mol),\n",
    "                            Descriptors.PEOE_VSA2(mol),\n",
    "                            Descriptors.PEOE_VSA3(mol),\n",
    "                            Descriptors.PEOE_VSA4(mol),\n",
    "                            Descriptors.PEOE_VSA5(mol),\n",
    "                            Descriptors.PEOE_VSA6(mol),\n",
    "                            Descriptors.PEOE_VSA7(mol),\n",
    "                            Descriptors.PEOE_VSA8(mol),\n",
    "                            Descriptors.PEOE_VSA9(mol),\n",
    "                            Descriptors.PEOE_VSA10(mol),\n",
    "                            Descriptors.PEOE_VSA11(mol),\n",
    "                            Descriptors.PEOE_VSA12(mol),\n",
    "                            Descriptors.PEOE_VSA13(mol),\n",
    "                            Descriptors.PEOE_VSA14(mol),\n",
    "                            Descriptors.SMR_VSA1(mol),\n",
    "                            Descriptors.SMR_VSA2(mol),\n",
    "                            Descriptors.SMR_VSA3(mol),\n",
    "                            Descriptors.SMR_VSA4(mol),\n",
    "                            Descriptors.SMR_VSA5(mol),\n",
    "                            Descriptors.SMR_VSA6(mol),\n",
    "                            Descriptors.SMR_VSA7(mol),\n",
    "                            Descriptors.SMR_VSA8(mol),\n",
    "                            Descriptors.SMR_VSA9(mol),\n",
    "                            Descriptors.SMR_VSA10(mol),\n",
    "                            Descriptors.SlogP_VSA1(mol),\n",
    "                            Descriptors.SlogP_VSA2(mol),\n",
    "                            Descriptors.SlogP_VSA3(mol),\n",
    "                            Descriptors.SlogP_VSA4(mol),\n",
    "                            Descriptors.SlogP_VSA5(mol),\n",
    "                            Descriptors.SlogP_VSA6(mol),\n",
    "                            Descriptors.SlogP_VSA7(mol),\n",
    "                            Descriptors.SlogP_VSA8(mol),\n",
    "                            Descriptors.SlogP_VSA9(mol),\n",
    "                            Descriptors.SlogP_VSA10(mol),\n",
    "                            Descriptors.SlogP_VSA11(mol),\n",
    "                            Descriptors.SlogP_VSA12(mol),\n",
    "                            Descriptors.VSA_EState1(mol),\n",
    "                            Descriptors.VSA_EState2(mol),\n",
    "                            Descriptors.VSA_EState3(mol),\n",
    "                            Descriptors.VSA_EState4(mol),\n",
    "                            Descriptors.VSA_EState5(mol),\n",
    "                            Descriptors.VSA_EState6(mol),\n",
    "                            Descriptors.VSA_EState7(mol),\n",
    "                            Descriptors.VSA_EState8(mol),\n",
    "                            Descriptors.VSA_EState9(mol),\n",
    "                            Descriptors.VSA_EState10(mol),\n",
    "                            rdMolDescriptors._CalcCrippenContribs(mol),\n",
    "                            #Descriptors.MQN(mol),\n",
    "                            #Descriptors.Autocorr2D(mol),\n",
    "                            #Descriptors.BCUT2D(mol),\n",
    "                            #Descriptors.Phi(mol),\n",
    "                            Descriptors.NumHeteroatoms(mol),\n",
    "                            Descriptors.NumRotatableBonds(mol),\n",
    "                            Descriptors.HallKierAlpha(mol),\n",
    "                            Descriptors.Ipc(mol),\n",
    "                            Descriptors.BertzCT(mol),\n",
    "                            Descriptors.BalabanJ(mol),\n",
    "                            Descriptors.Kappa1(mol),\n",
    "                            Descriptors.Kappa2(mol),\n",
    "                            Descriptors.Kappa3(mol),\n",
    "                            Descriptors.Chi0(mol),\n",
    "                            Descriptors.Chi1(mol),\n",
    "                            Descriptors.Chi0n(mol),\n",
    "                            Descriptors.Chi1n(mol),\n",
    "                            Descriptors.Chi2n(mol),\n",
    "                            Descriptors.Chi3n(mol),\n",
    "                            Descriptors.Chi4n(mol),\n",
    "                            Descriptors.Chi0v(mol),\n",
    "                            Descriptors.Chi1v(mol),\n",
    "                            Descriptors.Chi2v(mol),\n",
    "                            Descriptors.Chi3v(mol),\n",
    "                            Descriptors.Chi4v(mol),\n",
    "                            #Descriptors.NumAmideBonds(mol),\n",
    "                            Descriptors.NHOHCount(mol),\n",
    "                            Descriptors.NOCount(mol),\n",
    "                            Descriptors.NumAromaticRings(mol),\n",
    "                            Descriptors.NumSaturatedRings(mol),\n",
    "                            Descriptors.NumAliphaticRings(mol),\n",
    "                            Descriptors.NumAromaticHeterocycles(mol),\n",
    "                            Descriptors.NumAromaticCarbocycles(mol),\n",
    "                            Descriptors.NumSaturatedHeterocycles(mol),\n",
    "                            Descriptors.NumSaturatedCarbocycles(mol),\n",
    "                            Descriptors.NumAliphaticHeterocycles(mol),\n",
    "                            Descriptors.NumAliphaticCarbocycles(mol),\n",
    "                            #Descriptors.NumSpiroAtoms(mol),\n",
    "                            #Descriptors.NumBridgeheadAtoms(mol),\n",
    "                            #Descriptors3D.PMI1(mol),\n",
    "                            #Descriptors3D.PMI2(mol),\n",
    "                            #Descriptors3D.PMI3(mol),\n",
    "                            #Descriptors3D.NPR1(mol),\n",
    "                            #Descriptors3D.NPR2(mol),\n",
    "                            #Descriptors3D.Eccentricity(mol),\n",
    "                            #Descriptors3D.Asphericity(mol),\n",
    "                            #Descriptors3D.SpherocityIndex(mol),\n",
    "                            #Descriptors3D.RadiusOfGyration(mol),\n",
    "                            #Descriptors3D.InertialShapeFactor(mol),\n",
    "                            Descriptors.MaxAbsPartialCharge(mol),\n",
    "                            Descriptors.MinAbsPartialCharge(mol),\n",
    "                            Descriptors.MinAbsEStateIndex(mol),\n",
    "                            Descriptors.MaxAbsEStateIndex(mol),\n",
    "                            Descriptors.MinEStateIndex(mol),\n",
    "                            Descriptors.MaxEStateIndex(mol),\n",
    "                            len(mol.GetAtoms()),\n",
    "                            len(mol.GetBonds()),\n",
    "                            len(Chem.GetSSSR(mol)),\n",
    "\n",
    "      ]\n",
    "      print(len(descriptors_list))\n",
    "      break"
=======
   "attachments": {},
   "cell_type": "markdown",
   "id": "1668f127",
   "metadata": {},
   "source": [
    "We used 4 resourses to find descriptors: RDKit API, PubChem API, Materials Project API and a python wrapper for PaDEL-Descriptor software."
>>>>>>> Stashed changes
   ]
  },
  {
   "cell_type": "code",
<<<<<<< Updated upstream
   "execution_count": null,
=======
   "execution_count": 17,
   "id": "76b5cd89",
   "metadata": {},
   "outputs": [],
   "source": [
    "def getMolDescriptors(mol, missingVal=None):\n",
    "    \"\"\"calculate the full list of RDKit descriptors for a molecule\"\"\"\n",
    "    \"\"\"missingVal is used when descriptor cannot be calculated\"\"\"\n",
    "    res = {}\n",
    "    for nm,fn in Descriptors._descList:\n",
    "        try:\n",
    "            val = fn(mol)\n",
    "        except:\n",
    "            import traceback\n",
    "            traceback.print_exc()\n",
    "            val = missingVal\n",
    "        res[nm] = val\n",
    "    return res"
   ]
  },
  {
   "cell_type": "code",
   "execution_count": 20,
   "id": "4f910ba2",
   "metadata": {},
   "outputs": [
    {
     "data": {
      "text/html": [
       "<div>\n",
       "<style scoped>\n",
       "    .dataframe tbody tr th:only-of-type {\n",
       "        vertical-align: middle;\n",
       "    }\n",
       "\n",
       "    .dataframe tbody tr th {\n",
       "        vertical-align: top;\n",
       "    }\n",
       "\n",
       "    .dataframe thead th {\n",
       "        text-align: right;\n",
       "    }\n",
       "</style>\n",
       "<table border=\"1\" class=\"dataframe\">\n",
       "  <thead>\n",
       "    <tr style=\"text-align: right;\">\n",
       "      <th></th>\n",
       "      <th>MaxEStateIndex</th>\n",
       "      <th>MinEStateIndex</th>\n",
       "      <th>MaxAbsEStateIndex</th>\n",
       "      <th>MinAbsEStateIndex</th>\n",
       "      <th>qed</th>\n",
       "      <th>MolWt</th>\n",
       "      <th>HeavyAtomMolWt</th>\n",
       "      <th>ExactMolWt</th>\n",
       "      <th>NumValenceElectrons</th>\n",
       "      <th>NumRadicalElectrons</th>\n",
       "      <th>...</th>\n",
       "      <th>fr_sulfide</th>\n",
       "      <th>fr_sulfonamd</th>\n",
       "      <th>fr_sulfone</th>\n",
       "      <th>fr_term_acetylene</th>\n",
       "      <th>fr_tetrazole</th>\n",
       "      <th>fr_thiazole</th>\n",
       "      <th>fr_thiocyan</th>\n",
       "      <th>fr_thiophene</th>\n",
       "      <th>fr_unbrch_alkane</th>\n",
       "      <th>fr_urea</th>\n",
       "    </tr>\n",
       "  </thead>\n",
       "  <tbody>\n",
       "    <tr>\n",
       "      <th>0</th>\n",
       "      <td>0.000000</td>\n",
       "      <td>0.000000</td>\n",
       "      <td>0.000000</td>\n",
       "      <td>0.000000</td>\n",
       "      <td>0.494829</td>\n",
       "      <td>291.189</td>\n",
       "      <td>291.189</td>\n",
       "      <td>291.689311</td>\n",
       "      <td>28</td>\n",
       "      <td>4</td>\n",
       "      <td>...</td>\n",
       "      <td>0</td>\n",
       "      <td>0</td>\n",
       "      <td>0</td>\n",
       "      <td>0</td>\n",
       "      <td>0</td>\n",
       "      <td>0</td>\n",
       "      <td>0</td>\n",
       "      <td>0</td>\n",
       "      <td>0</td>\n",
       "      <td>0</td>\n",
       "    </tr>\n",
       "    <tr>\n",
       "      <th>1</th>\n",
       "      <td>5.833333</td>\n",
       "      <td>0.833333</td>\n",
       "      <td>5.833333</td>\n",
       "      <td>0.833333</td>\n",
       "      <td>0.480843</td>\n",
       "      <td>195.851</td>\n",
       "      <td>195.851</td>\n",
       "      <td>195.950931</td>\n",
       "      <td>10</td>\n",
       "      <td>1</td>\n",
       "      <td>...</td>\n",
       "      <td>0</td>\n",
       "      <td>0</td>\n",
       "      <td>0</td>\n",
       "      <td>0</td>\n",
       "      <td>0</td>\n",
       "      <td>0</td>\n",
       "      <td>0</td>\n",
       "      <td>0</td>\n",
       "      <td>0</td>\n",
       "      <td>0</td>\n",
       "    </tr>\n",
       "    <tr>\n",
       "      <th>2</th>\n",
       "      <td>5.833333</td>\n",
       "      <td>0.833333</td>\n",
       "      <td>5.833333</td>\n",
       "      <td>0.833333</td>\n",
       "      <td>0.480843</td>\n",
       "      <td>195.851</td>\n",
       "      <td>195.851</td>\n",
       "      <td>195.950931</td>\n",
       "      <td>10</td>\n",
       "      <td>1</td>\n",
       "      <td>...</td>\n",
       "      <td>0</td>\n",
       "      <td>0</td>\n",
       "      <td>0</td>\n",
       "      <td>0</td>\n",
       "      <td>0</td>\n",
       "      <td>0</td>\n",
       "      <td>0</td>\n",
       "      <td>0</td>\n",
       "      <td>0</td>\n",
       "      <td>0</td>\n",
       "    </tr>\n",
       "    <tr>\n",
       "      <th>3</th>\n",
       "      <td>5.555556</td>\n",
       "      <td>2.222222</td>\n",
       "      <td>5.555556</td>\n",
       "      <td>2.222222</td>\n",
       "      <td>0.256934</td>\n",
       "      <td>40.097</td>\n",
       "      <td>40.097</td>\n",
       "      <td>39.976927</td>\n",
       "      <td>8</td>\n",
       "      <td>0</td>\n",
       "      <td>...</td>\n",
       "      <td>0</td>\n",
       "      <td>0</td>\n",
       "      <td>0</td>\n",
       "      <td>0</td>\n",
       "      <td>0</td>\n",
       "      <td>0</td>\n",
       "      <td>0</td>\n",
       "      <td>0</td>\n",
       "      <td>0</td>\n",
       "      <td>0</td>\n",
       "    </tr>\n",
       "    <tr>\n",
       "      <th>4</th>\n",
       "      <td>5.555556</td>\n",
       "      <td>2.222222</td>\n",
       "      <td>5.555556</td>\n",
       "      <td>2.222222</td>\n",
       "      <td>0.256934</td>\n",
       "      <td>40.097</td>\n",
       "      <td>40.097</td>\n",
       "      <td>39.976927</td>\n",
       "      <td>8</td>\n",
       "      <td>0</td>\n",
       "      <td>...</td>\n",
       "      <td>0</td>\n",
       "      <td>0</td>\n",
       "      <td>0</td>\n",
       "      <td>0</td>\n",
       "      <td>0</td>\n",
       "      <td>0</td>\n",
       "      <td>0</td>\n",
       "      <td>0</td>\n",
       "      <td>0</td>\n",
       "      <td>0</td>\n",
       "    </tr>\n",
       "  </tbody>\n",
       "</table>\n",
       "<p>5 rows × 208 columns</p>\n",
       "</div>"
      ],
      "text/plain": [
       "   MaxEStateIndex  MinEStateIndex  MaxAbsEStateIndex  MinAbsEStateIndex  \\\n",
       "0        0.000000        0.000000           0.000000           0.000000   \n",
       "1        5.833333        0.833333           5.833333           0.833333   \n",
       "2        5.833333        0.833333           5.833333           0.833333   \n",
       "3        5.555556        2.222222           5.555556           2.222222   \n",
       "4        5.555556        2.222222           5.555556           2.222222   \n",
       "\n",
       "        qed    MolWt  HeavyAtomMolWt  ExactMolWt  NumValenceElectrons  \\\n",
       "0  0.494829  291.189         291.189  291.689311                   28   \n",
       "1  0.480843  195.851         195.851  195.950931                   10   \n",
       "2  0.480843  195.851         195.851  195.950931                   10   \n",
       "3  0.256934   40.097          40.097   39.976927                    8   \n",
       "4  0.256934   40.097          40.097   39.976927                    8   \n",
       "\n",
       "   NumRadicalElectrons  ...  fr_sulfide  fr_sulfonamd  fr_sulfone  \\\n",
       "0                    4  ...           0             0           0   \n",
       "1                    1  ...           0             0           0   \n",
       "2                    1  ...           0             0           0   \n",
       "3                    0  ...           0             0           0   \n",
       "4                    0  ...           0             0           0   \n",
       "\n",
       "   fr_term_acetylene  fr_tetrazole  fr_thiazole  fr_thiocyan  fr_thiophene  \\\n",
       "0                  0             0            0            0             0   \n",
       "1                  0             0            0            0             0   \n",
       "2                  0             0            0            0             0   \n",
       "3                  0             0            0            0             0   \n",
       "4                  0             0            0            0             0   \n",
       "\n",
       "   fr_unbrch_alkane  fr_urea  \n",
       "0                 0        0  \n",
       "1                 0        0  \n",
       "2                 0        0  \n",
       "3                 0        0  \n",
       "4                 0        0  \n",
       "\n",
       "[5 rows x 208 columns]"
      ]
     },
     "execution_count": 20,
     "metadata": {},
     "output_type": "execute_result"
    }
   ],
   "source": [
    "# create a separate DataFrame with RDKit descriptors\n",
    "mols = []\n",
    "for smiles in data['normalised_name'].tolist():\n",
    "  mol = Chem.MolFromSmiles(smiles)\n",
    "  mols.append(mol)\n",
    "allDescrs = [getMolDescriptors(mol) for mol in mols]\n",
    "rdkit_data = pd.DataFrame(allDescrs)\n",
    "rdkit_data.head()"
   ]
  },
  {
   "cell_type": "code",
   "execution_count": 21,
   "id": "340af255",
   "metadata": {},
   "outputs": [
    {
     "data": {
      "text/plain": [
       "(4978, 208)"
      ]
     },
     "execution_count": 21,
     "metadata": {},
     "output_type": "execute_result"
    }
   ],
   "source": [
    "# so we get 208 RDKit descriptors\n",
    "rdkit_data.shape"
   ]
  },
  {
   "cell_type": "code",
   "execution_count": 22,
>>>>>>> Stashed changes
   "id": "6d3beaf4",
   "metadata": {},
   "outputs": [],
   "source": [
<<<<<<< Updated upstream
    "# 20 descriptors from PubChem\n",
    "for smiles in data['smiles'].tolist(): ###19\n",
    "  descriptors_list = []\n",
    "  if type(smiles)==str:\n",
    "    for property in ['MonoisotopicMass',\n",
    "                        'Complexity',\n",
    "                        'IsotopeAtomCount',\n",
    "                        'AtomStereoCount',\n",
    "                        'DefinedAtomStereoCount',\n",
    "                        'UndefinedAtomStereoCount'\n",
    "                        'BondStereoCount',\n",
    "                        'DefinedBondStereoCount',\n",
    "                        'UndefinedBondStereoCount',\n",
    "                        'CovalentUnitCount',\n",
    "                        'Volume3D',\n",
    "                        'XStericQuadrupole3D',\n",
    "                        'YStericQuadrupole3D',\n",
    "                        'ZStericQuadrupole3D',\n",
    "                        'FeatureCount3D',\n",
    "                        'FeatureRingCount3D',\n",
    "                        'FeatureHydrophobeCount3D',\n",
    "                        'ConformerModelRMSD3D',\n",
    "                        'EffectiveRotorCount3D'\n",
    "                        'ConformerCount3D',\n",
    "                        'Charge']:\n",
    "      try:\n",
    "        p = pcp.get_properties(property, smiles, 'smiles')\n",
    "        if property in p[0].keys():\n",
    "          print(p[0][property])\n",
    "        else:\n",
    "          print(None)\n",
    "      except:\n",
    "        print(None)\n",
    "    break"
=======
    "# create a separate DatFrame with PubChem descriptors\n",
    "properties = ['MonoisotopicMass',\n",
    "              'Complexity',\n",
    "              'IsotopeAtomCount',\n",
    "              'AtomStereoCount',\n",
    "              'DefinedAtomStereoCount',\n",
    "              'UndefinedAtomStereoCount',\n",
    "              'BondStereoCount',\n",
    "              'DefinedBondStereoCount',\n",
    "              'UndefinedBondStereoCount',\n",
    "              'CovalentUnitCount',\n",
    "              'Volume3D',\n",
    "              'XStericQuadrupole3D',\n",
    "              'YStericQuadrupole3D',\n",
    "              'ZStericQuadrupole3D',\n",
    "              'FeatureCount3D',\n",
    "              'FeatureRingCount3D',\n",
    "              'FeatureHydrophobeCount3D',\n",
    "              'ConformerModelRMSD3D',\n",
    "              'EffectiveRotorCount3D',\n",
    "              'ConformerCount3D',\n",
    "              'Charge']\n",
    "pubchem_descriptors = []\n",
    "for smiles in data['normalised_name'].tolist():\n",
    "  descriptors_list = []\n",
    "  for property in properties:\n",
    "      try:\n",
    "        p = pcp.get_properties(property, smiles, 'smiles')\n",
    "        descriptors_list.append(p[0][property])\n",
    "      except:\n",
    "        descriptors_list.append(None)\n",
    "  pubchem_descriptors.append(descriptors_list)\n",
    "pubchem_data = pd.DataFrame(columns=properties, data=pubchem_descriptors)\n",
    "pubchem_data.head()"
>>>>>>> Stashed changes
   ]
  },
  {
   "cell_type": "code",
   "execution_count": null,
<<<<<<< Updated upstream
   "id": "fac669cc",
   "metadata": {},
   "outputs": [],
   "source": [
    "# 50 descriptors from Materials Project\n",
    "with MPRester(\"VB1JmIovB0FutOai3Xb1ItnXhy9OkIDk\") as mpr: ###53\n",
    "  docs = mpr.summary.search(formula=\"CO\", fields=['nsites', 'nelements', 'chemsys', 'volume', 'density', 'density_atomic', 'symmetry', 'deprecated', 'deprecation_reasons', 'uncorrected_energy_per_atom', 'energy_per_atom', 'formation_energy_per_atom', 'energy_above_hull', 'is_stable', 'equilibrium_reaction_energy_per_atom', 'xas', 'grain_boundaries', 'band_gap', 'cbm', 'vbm', 'efermi', 'is_gap_direct', 'is_metal', 'dos_energy_up', 'dos_energy_down', 'is_magnetic', 'ordering', 'total_magnetization', 'total_magnetization_normalized_vol', 'total_magnetization_normalized_formula_units', 'num_magnetic_sites', 'num_unique_magnetic_sites', 'types_of_magnetic_species', 'k_voigt', 'k_reuss', 'k_vrh', 'g_voigt', 'g_reuss', 'g_vrh', 'universal_anisotropy', 'homogeneous_poisson', 'e_total', 'e_ionic', 'e_electronic', 'n', 'e_ij_max', 'weighted_surface_energy_EV_PER_ANG2', 'weighted_surface_energy', 'weighted_work_function', 'surface_anisotropy', 'shape_factor', 'has_reconstructed', 'theoretical'])\n",
    "  print(docs[0])"
=======
   "id": "d631a4be",
   "metadata": {},
   "outputs": [],
   "source": [
    "# so we get 20 descriptors from PubChem\n",
    "pubchem_data.shape"
   ]
  },
  {
   "cell_type": "code",
   "execution_count": 51,
   "id": "fac669cc",
   "metadata": {},
   "outputs": [
    {
     "name": "stderr",
     "output_type": "stream",
     "text": [
      "C:\\Users\\User\\AppData\\Roaming\\Python\\Python310\\site-packages\\mp_api\\client\\mprester.py:146: UserWarning: mpcontribs-client not installed. Install the package to query MPContribs data, or construct pourbaix diagrams: 'pip install mpcontribs-client'\n",
      "  warnings.warn(\n",
      "Retrieving SummaryDoc documents: 100%|██████████| 27/27 [00:00<00:00, 2702.39it/s]\n",
      "Retrieving SummaryDoc documents: 100%|██████████| 27/27 [00:00<?, ?it/s]\n",
      "Retrieving SummaryDoc documents: 100%|██████████| 27/27 [00:00<00:00, 6758.55it/s]\n",
      "Retrieving SummaryDoc documents: 100%|██████████| 27/27 [00:00<00:00, 13512.25it/s]\n",
      "Retrieving SummaryDoc documents: 100%|██████████| 27/27 [00:00<00:00, 4334.78it/s]\n",
      "Retrieving SummaryDoc documents: 100%|██████████| 27/27 [00:00<?, ?it/s]\n",
      "Retrieving SummaryDoc documents: 100%|██████████| 27/27 [00:00<00:00, 13521.94it/s]\n",
      "Retrieving SummaryDoc documents: 100%|██████████| 27/27 [00:00<00:00, 219469.40it/s]\n"
     ]
    }
   ],
   "source": [
    "# 55 descriptors from Materials Project\n",
    "with MPRester(\"VB1JmIovB0FutOai3Xb1ItnXhy9OkIDk\") as mpr:\n",
    "  mp_descriptors = []\n",
    "  for smiles in data['normalised_name'].tolist():\n",
    "    desc_list = []\n",
    "    docs = mpr.summary.search(formula='BN', fields=['nsites', 'nelements', 'chemsys', 'volume', 'density', 'density_atomic', 'symmetry', 'deprecated', 'deprecation_reasons', 'uncorrected_energy_per_atom', 'energy_per_atom', 'formation_energy_per_atom', 'energy_above_hull', 'is_stable', 'equilibrium_reaction_energy_per_atom', 'xas', 'grain_boundaries', 'band_gap', 'cbm', 'vbm', 'efermi', 'is_gap_direct', 'is_metal', 'dos_energy_up', 'dos_energy_down', 'is_magnetic', 'ordering', 'total_magnetization', 'total_magnetization_normalized_vol', 'total_magnetization_normalized_formula_units', 'num_magnetic_sites', 'num_unique_magnetic_sites', 'types_of_magnetic_species', 'k_voigt', 'k_reuss', 'k_vrh', 'g_voigt', 'g_reuss', 'g_vrh', 'universal_anisotropy', 'homogeneous_poisson', 'e_total', 'e_ionic', 'e_electronic', 'n', 'e_ij_max', 'weighted_surface_energy_EV_PER_ANG2', 'weighted_surface_energy', 'weighted_work_function', 'surface_anisotropy', 'shape_factor', 'has_reconstructed', 'theoretical'])\n",
    "    sym = str(docs[0].symmetry)\n",
    "    sym_word = sym.split(' ')[1]\n",
    "    sym_word = sym_word.translate(str.maketrans('', '', string.punctuation))\n",
    "    xas = str(docs[0].xas)\n",
    "    xas_edge = xas.split(' ')[1]\n",
    "    xas_edge = xas_edge.translate(str.maketrans('', '', string.punctuation))\n",
    "    xas_element = xas.split(' ')[3]\n",
    "    xas_type = xas.split(' ')[5]\n",
    "    xas_type = xas_type.translate(str.maketrans('', '', string.punctuation))\n",
    "    for i in [docs[0].nsites, docs[0].nelements, docs[0].chemsys, docs[0].volume, docs[0].density, docs[0].density_atomic, sym_word, docs[0].deprecated, docs[0].deprecation_reasons, docs[0].uncorrected_energy_per_atom, docs[0].energy_per_atom, docs[0].formation_energy_per_atom, docs[0].energy_above_hull, docs[0].is_stable, docs[0].equilibrium_reaction_energy_per_atom, xas_edge, xas_element, xas_type, docs[0].grain_boundaries, docs[0].band_gap, docs[0].cbm, docs[0].vbm, docs[0].efermi, docs[0].is_gap_direct, docs[0].is_metal, docs[0].dos_energy_up, docs[0].dos_energy_down, docs[0].is_magnetic, docs[0].ordering, docs[0].total_magnetization, docs[0].total_magnetization_normalized_vol, docs[0].total_magnetization_normalized_formula_units, docs[0].num_magnetic_sites, docs[0].num_unique_magnetic_sites, docs[0].types_of_magnetic_species, docs[0].k_voigt, docs[0].k_reuss, docs[0].k_vrh, docs[0].g_voigt, docs[0].g_reuss, docs[0].g_vrh, docs[0].universal_anisotropy, docs[0].homogeneous_poisson, docs[0].e_total, docs[0].e_ionic, docs[0].e_electronic, docs[0].n, docs[0].e_ij_max, docs[0].weighted_surface_energy_EV_PER_ANG2, docs[0].weighted_surface_energy, docs[0].weighted_work_function, docs[0].surface_anisotropy, docs[0].shape_factor, docs[0].has_reconstructed, docs[0].theoretical]:\n",
    "      desc_list.append(i)\n",
    "    mp_descriptors.append(desc_list)\n",
    "mp_data = pd.DataFrame(data=mp_descriptors)\n",
    "mp_data.head()"
   ]
  },
  {
   "cell_type": "code",
   "execution_count": 21,
   "id": "670b8a8c",
   "metadata": {},
   "outputs": [
    {
     "name": "stdout",
     "output_type": "stream",
     "text": [
      "PaDEL-Descriptor is a software for calculating molecular\n",
      "descriptors and fingerprints. The software calculates\n",
      "1875 descriptors (1444 1D and 2D descriptors, and 431\n",
      "3D descriptors) and 12 types of fingerprints.\n",
      "\n",
      "###################################\n",
      "\n",
      "Should you publish results based on the PaDEL descriptors,\n",
      "please cite:\n",
      "\n",
      "Yap, C.W. (2011), PaDEL-descriptor: An open source software\n",
      "to calculate molecular descriptors and fingerprints.\n",
      "J. Comput. Chem., 32: 1466-1474. https://doi.org/10.1002/jcc.21707\n",
      "\n",
      "###################################\n",
      "\n",
      "  nAtom nHeavyAtom   nH   nB   nC   nN   nO   nS   nP   nF  ... MLFER_A  \\\n",
      "0   NaN        NaN  NaN  NaN  NaN  NaN  NaN  NaN  NaN  NaN  ...     NaN   \n",
      "\n",
      "  MLFER_BH MLFER_BO MLFER_S MLFER_E MLFER_L nRotB RotBFrac nRotBt RotBtFrac  \n",
      "0      NaN      NaN     NaN     NaN     NaN   NaN      NaN    NaN       NaN  \n",
      "\n",
      "[1 rows x 597 columns]\n"
     ]
    }
   ],
   "source": [
    "from PaDEL_pywrapper.descriptor import AtomCount, BondCount, Constitutional, EStateAtomType, ExtendedTopochemicalAtom, MDE, MLFER, RotatableBondsCount\n",
    "mol = Chem.MolFromSmiles('HCOOH')\n",
    "descriptors = [AtomCount, BondCount, Constitutional, EStateAtomType, ExtendedTopochemicalAtom, MDE, MLFER, RotatableBondsCount]\n",
    "padel = PaDEL(descriptors)\n",
    "print(padel.calculate([mol]))"
>>>>>>> Stashed changes
   ]
  },
  {
   "cell_type": "code",
   "execution_count": null,
   "id": "fc7a374d",
   "metadata": {},
   "outputs": [],
   "source": [
    "padel = PaDEL(descriptors)\n",
    "for smiles in data['normalised_name'].tolist():\n",
    "  descriptors_list = []\n",
    "  if type(smiles)==str:\n",
    "    mol = Chem.MolFromSmiles(smiles)\n",
    "    if mol!=None:\n",
    "      padel.calculate(mol)"
   ]
  }
 ],
 "metadata": {
  "kernelspec": {
   "display_name": "Python 3 (ipykernel)",
   "language": "python",
   "name": "python3"
  },
  "language_info": {
   "codemirror_mode": {
    "name": "ipython",
    "version": 3
   },
   "file_extension": ".py",
   "mimetype": "text/x-python",
   "name": "python",
   "nbconvert_exporter": "python",
   "pygments_lexer": "ipython3",
   "version": "3.10.7"
  },
  "vscode": {
   "interpreter": {
    "hash": "26de051ba29f2982a8de78e945f0abaf191376122a1563185a90213a26c5da77"
   }
  }
 },
 "nbformat": 4,
 "nbformat_minor": 5
}
