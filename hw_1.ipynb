{
 "cells": [
  {
   "cell_type": "markdown",
   "id": "092bd7d7",
   "metadata": {},
   "source": [
    "# Hometask №1\n",
    "### Data processing & descriptors search"
   ]
  },
  {
   "cell_type": "code",
   "execution_count": 421,
   "id": "2165a348",
   "metadata": {},
   "outputs": [],
   "source": [
    "import pandas as pd\n",
    "\n",
    "import numpy as np\n",
    "\n",
    "import re\n",
    "\n",
    "import rdkit\n",
    "from rdkit import Chem\n",
    "from rdkit.Chem import Descriptors\n",
    "from rdkit.Chem import rdMolDescriptors\n",
    "from rdkit.Chem import Descriptors3D\n",
    "from rdkit.Chem import rdDepictor\n",
    "from rdkit import RDLogger\n",
    "RDLogger.DisableLog('rdApp.*') # supress rdkit warnings\n",
    "\n",
    "import cirpy\n",
    "\n",
    "import pubchempy as pcp\n",
    "\n",
    "from mp_api.client import MPRester\n",
    "\n",
    "from bs4 import BeautifulSoup\n",
    "import requests\n",
    "\n",
    "from PaDEL_pywrapper import PaDEL\n",
    "from PaDEL_pywrapper import descriptors\n",
    "from PaDEL_pywrapper.descriptor import AtomCount, BondCount, Constitutional, EStateAtomType, ExtendedTopochemicalAtom, MDE, MLFER, RotatableBondsCount, CarbonTypes, HBondAcceptorCount, HBondDonorCount, PathCount\n",
    "\n",
    "import string\n",
    "\n",
    "import seaborn as sns\n",
    "\n",
    "import matplotlib.pyplot as plt"
   ]
  },
  {
   "cell_type": "markdown",
   "id": "7a2ee4c4",
   "metadata": {},
   "source": [
    "### Dataset"
   ]
  },
  {
   "cell_type": "code",
   "execution_count": 404,
   "id": "529cb78c",
   "metadata": {
    "scrolled": true
   },
   "outputs": [
    {
     "data": {
      "text/html": [
       "<div>\n",
       "<style scoped>\n",
       "    .dataframe tbody tr th:only-of-type {\n",
       "        vertical-align: middle;\n",
       "    }\n",
       "\n",
       "    .dataframe tbody tr th {\n",
       "        vertical-align: top;\n",
       "    }\n",
       "\n",
       "    .dataframe thead th {\n",
       "        text-align: right;\n",
       "    }\n",
       "</style>\n",
       "<table border=\"1\" class=\"dataframe\">\n",
       "  <thead>\n",
       "    <tr style=\"text-align: right;\">\n",
       "      <th></th>\n",
       "      <th>DOI</th>\n",
       "      <th>Date</th>\n",
       "      <th>Journal</th>\n",
       "      <th>Title</th>\n",
       "      <th>Name</th>\n",
       "      <th>measurement_error</th>\n",
       "      <th>measurement_wavelength</th>\n",
       "      <th>measurement_method</th>\n",
       "      <th>normalised_name</th>\n",
       "      <th>raw_value</th>\n",
       "      <th>specifier</th>\n",
       "    </tr>\n",
       "  </thead>\n",
       "  <tbody>\n",
       "    <tr>\n",
       "      <th>0</th>\n",
       "      <td>10.1016/j.physb.2010.04.052</td>\n",
       "      <td>4/29/2010</td>\n",
       "      <td>Physica B: Condensed Matter</td>\n",
       "      <td>EXCITONSPECTRAENERGYBANDSTRUCTURECUALS2CRYSTALS</td>\n",
       "      <td>CuGaSe2</td>\n",
       "      <td>0.0</td>\n",
       "      <td>NaN</td>\n",
       "      <td>el_cde_tables</td>\n",
       "      <td>[['Cu', 1.0], ['Ga', 1.0], ['Se', 2.0]]</td>\n",
       "      <td>1.8235</td>\n",
       "      <td>n</td>\n",
       "    </tr>\n",
       "    <tr>\n",
       "      <th>1</th>\n",
       "      <td>10.1016/j.jep.2012.08.025</td>\n",
       "      <td>8/29/2012</td>\n",
       "      <td>Journal of Ethnopharmacology</td>\n",
       "      <td>INVITROINVIVOANTIMICROBIALACTIVITYALGERIANHOGG...</td>\n",
       "      <td>WC</td>\n",
       "      <td>0.0</td>\n",
       "      <td>NaN</td>\n",
       "      <td>el_cde_tables</td>\n",
       "      <td>NaN</td>\n",
       "      <td>2.66</td>\n",
       "      <td>n</td>\n",
       "    </tr>\n",
       "    <tr>\n",
       "      <th>2</th>\n",
       "      <td>10.1016/j.physb.2011.08.013</td>\n",
       "      <td>8/18/2011</td>\n",
       "      <td>Physica B: Condensed Matter</td>\n",
       "      <td>OPTICALPROPERTIESGEASTETHINFILMS</td>\n",
       "      <td>Te–Te</td>\n",
       "      <td>0.0</td>\n",
       "      <td>NaN</td>\n",
       "      <td>el_mylogic</td>\n",
       "      <td>NaN</td>\n",
       "      <td>2.99</td>\n",
       "      <td>Refractive index parameters</td>\n",
       "    </tr>\n",
       "    <tr>\n",
       "      <th>3</th>\n",
       "      <td>10.1016/j.jnoncrysol.2011.04.001</td>\n",
       "      <td>5/3/2011</td>\n",
       "      <td>Journal of Non-Crystalline Solids</td>\n",
       "      <td>FOURIERTRANSFORMINFRAREDSPECTROSCOPYINVESTIGAT...</td>\n",
       "      <td>SiC</td>\n",
       "      <td>0.0</td>\n",
       "      <td>NaN</td>\n",
       "      <td>el_mylogic</td>\n",
       "      <td>NaN</td>\n",
       "      <td>2.55</td>\n",
       "      <td>RI (± 0.0001)</td>\n",
       "    </tr>\n",
       "    <tr>\n",
       "      <th>4</th>\n",
       "      <td>10.1039/C4PY00369A</td>\n",
       "      <td>8/12/2014</td>\n",
       "      <td>Polymer Chemistry</td>\n",
       "      <td>Camptothecin prodrug block copolymer micelles ...</td>\n",
       "      <td>CPT</td>\n",
       "      <td>0.0</td>\n",
       "      <td>NaN</td>\n",
       "      <td>rsc_cde_text</td>\n",
       "      <td>NaN</td>\n",
       "      <td>3</td>\n",
       "      <td>n</td>\n",
       "    </tr>\n",
       "    <tr>\n",
       "      <th>...</th>\n",
       "      <td>...</td>\n",
       "      <td>...</td>\n",
       "      <td>...</td>\n",
       "      <td>...</td>\n",
       "      <td>...</td>\n",
       "      <td>...</td>\n",
       "      <td>...</td>\n",
       "      <td>...</td>\n",
       "      <td>...</td>\n",
       "      <td>...</td>\n",
       "      <td>...</td>\n",
       "    </tr>\n",
       "    <tr>\n",
       "      <th>4995</th>\n",
       "      <td>10.1016/j.ejpb.2004.05.003</td>\n",
       "      <td>6/26/2004</td>\n",
       "      <td>European Journal of Pharmaceutics and Biopharm...</td>\n",
       "      <td>APPLYINGPATTERNRECOGNITIONMETHODSSTRUCTUREPROP...</td>\n",
       "      <td>Dihydropyridine</td>\n",
       "      <td>0.0</td>\n",
       "      <td>NaN</td>\n",
       "      <td>el_mylogic</td>\n",
       "      <td>NaN</td>\n",
       "      <td>1.679</td>\n",
       "      <td>Index of refraction</td>\n",
       "    </tr>\n",
       "    <tr>\n",
       "      <th>4996</th>\n",
       "      <td>10.1039/C4CS00424H</td>\n",
       "      <td>NaN</td>\n",
       "      <td>NaN</td>\n",
       "      <td>NaN</td>\n",
       "      <td>TiO2</td>\n",
       "      <td>0.0</td>\n",
       "      <td>NaN</td>\n",
       "      <td>snowball</td>\n",
       "      <td>[['O', 2.0], ['Ti', 1.0]]</td>\n",
       "      <td>2.5</td>\n",
       "      <td>refractive index</td>\n",
       "    </tr>\n",
       "    <tr>\n",
       "      <th>4997</th>\n",
       "      <td>10.1016/j.numecd.2015.10.010</td>\n",
       "      <td>11/14/2015</td>\n",
       "      <td>Nutrition, Metabolism and Cardiovascular Diseases</td>\n",
       "      <td>INCREASINGFRUITVEGETABLEINTAKENOEFFECTRETINALV...</td>\n",
       "      <td>cholesterol</td>\n",
       "      <td>0.0</td>\n",
       "      <td>NaN</td>\n",
       "      <td>el_cde_tables</td>\n",
       "      <td>CC(C)CCC[C@@H](C)[C@H]1CC[C@H]2[C@@H]3CC=C4C[C...</td>\n",
       "      <td>4.28</td>\n",
       "      <td>n</td>\n",
       "    </tr>\n",
       "    <tr>\n",
       "      <th>4998</th>\n",
       "      <td>10.1016/j.solmat.2010.03.020</td>\n",
       "      <td>4/1/2010</td>\n",
       "      <td>Solar Energy Materials and Solar Cells</td>\n",
       "      <td>DISCUSSIONELECTRICALCHARACTERISTICSIIN013GA087...</td>\n",
       "      <td>SiO2</td>\n",
       "      <td>0.0</td>\n",
       "      <td>NaN</td>\n",
       "      <td>el_mylogic</td>\n",
       "      <td>NaN</td>\n",
       "      <td>1.467</td>\n",
       "      <td>Refractive index</td>\n",
       "    </tr>\n",
       "    <tr>\n",
       "      <th>4999</th>\n",
       "      <td>10.1016/j.ijleo.2014.08.172</td>\n",
       "      <td>11/8/2014</td>\n",
       "      <td>Optik</td>\n",
       "      <td>ANALYSISDESIGNOPTICALBIOSENSORSUSINGONEDIMENSI...</td>\n",
       "      <td>silicon</td>\n",
       "      <td>0.0</td>\n",
       "      <td>NaN</td>\n",
       "      <td>el_cde_text</td>\n",
       "      <td>[SiH4]</td>\n",
       "      <td>1.98</td>\n",
       "      <td>refractive index</td>\n",
       "    </tr>\n",
       "  </tbody>\n",
       "</table>\n",
       "<p>5000 rows × 11 columns</p>\n",
       "</div>"
      ],
      "text/plain": [
       "                                   DOI        Date  \\\n",
       "0          10.1016/j.physb.2010.04.052   4/29/2010   \n",
       "1            10.1016/j.jep.2012.08.025   8/29/2012   \n",
       "2          10.1016/j.physb.2011.08.013   8/18/2011   \n",
       "3     10.1016/j.jnoncrysol.2011.04.001    5/3/2011   \n",
       "4                   10.1039/C4PY00369A   8/12/2014   \n",
       "...                                ...         ...   \n",
       "4995        10.1016/j.ejpb.2004.05.003   6/26/2004   \n",
       "4996                10.1039/C4CS00424H         NaN   \n",
       "4997      10.1016/j.numecd.2015.10.010  11/14/2015   \n",
       "4998      10.1016/j.solmat.2010.03.020    4/1/2010   \n",
       "4999       10.1016/j.ijleo.2014.08.172   11/8/2014   \n",
       "\n",
       "                                                Journal  \\\n",
       "0                           Physica B: Condensed Matter   \n",
       "1                          Journal of Ethnopharmacology   \n",
       "2                           Physica B: Condensed Matter   \n",
       "3                     Journal of Non-Crystalline Solids   \n",
       "4                                     Polymer Chemistry   \n",
       "...                                                 ...   \n",
       "4995  European Journal of Pharmaceutics and Biopharm...   \n",
       "4996                                                NaN   \n",
       "4997  Nutrition, Metabolism and Cardiovascular Diseases   \n",
       "4998             Solar Energy Materials and Solar Cells   \n",
       "4999                                              Optik   \n",
       "\n",
       "                                                  Title             Name  \\\n",
       "0       EXCITONSPECTRAENERGYBANDSTRUCTURECUALS2CRYSTALS          CuGaSe2   \n",
       "1     INVITROINVIVOANTIMICROBIALACTIVITYALGERIANHOGG...               WC   \n",
       "2                      OPTICALPROPERTIESGEASTETHINFILMS            Te–Te   \n",
       "3     FOURIERTRANSFORMINFRAREDSPECTROSCOPYINVESTIGAT...              SiC   \n",
       "4     Camptothecin prodrug block copolymer micelles ...              CPT   \n",
       "...                                                 ...              ...   \n",
       "4995  APPLYINGPATTERNRECOGNITIONMETHODSSTRUCTUREPROP...  Dihydropyridine   \n",
       "4996                                                NaN             TiO2   \n",
       "4997  INCREASINGFRUITVEGETABLEINTAKENOEFFECTRETINALV...      cholesterol   \n",
       "4998  DISCUSSIONELECTRICALCHARACTERISTICSIIN013GA087...             SiO2   \n",
       "4999  ANALYSISDESIGNOPTICALBIOSENSORSUSINGONEDIMENSI...          silicon   \n",
       "\n",
       "      measurement_error measurement_wavelength measurement_method  \\\n",
       "0                   0.0                    NaN      el_cde_tables   \n",
       "1                   0.0                    NaN      el_cde_tables   \n",
       "2                   0.0                    NaN         el_mylogic   \n",
       "3                   0.0                    NaN         el_mylogic   \n",
       "4                   0.0                    NaN       rsc_cde_text   \n",
       "...                 ...                    ...                ...   \n",
       "4995                0.0                    NaN         el_mylogic   \n",
       "4996                0.0                    NaN           snowball   \n",
       "4997                0.0                    NaN      el_cde_tables   \n",
       "4998                0.0                    NaN         el_mylogic   \n",
       "4999                0.0                    NaN        el_cde_text   \n",
       "\n",
       "                                        normalised_name raw_value  \\\n",
       "0               [['Cu', 1.0], ['Ga', 1.0], ['Se', 2.0]]    1.8235   \n",
       "1                                                   NaN      2.66   \n",
       "2                                                   NaN      2.99   \n",
       "3                                                   NaN      2.55   \n",
       "4                                                   NaN         3   \n",
       "...                                                 ...       ...   \n",
       "4995                                                NaN     1.679   \n",
       "4996                          [['O', 2.0], ['Ti', 1.0]]       2.5   \n",
       "4997  CC(C)CCC[C@@H](C)[C@H]1CC[C@H]2[C@@H]3CC=C4C[C...      4.28   \n",
       "4998                                                NaN     1.467   \n",
       "4999                                             [SiH4]      1.98   \n",
       "\n",
       "                        specifier  \n",
       "0                               n  \n",
       "1                               n  \n",
       "2     Refractive index parameters  \n",
       "3                   RI (± 0.0001)  \n",
       "4                               n  \n",
       "...                           ...  \n",
       "4995          Index of refraction  \n",
       "4996             refractive index  \n",
       "4997                            n  \n",
       "4998             Refractive index  \n",
       "4999             refractive index  \n",
       "\n",
       "[5000 rows x 11 columns]"
      ]
     },
     "execution_count": 404,
     "metadata": {},
     "output_type": "execute_result"
    }
   ],
   "source": [
    "data = pd.read_csv(\"C:\\\\Users\\\\User\\Downloads\\\\1.csv\", sep=',')\n",
    "data"
   ]
  },
  {
   "cell_type": "code",
   "execution_count": 306,
   "id": "4335f473",
   "metadata": {},
   "outputs": [
    {
     "name": "stdout",
     "output_type": "stream",
     "text": [
      "<class 'pandas.core.frame.DataFrame'>\n",
      "RangeIndex: 5000 entries, 0 to 4999\n",
      "Data columns (total 11 columns):\n",
      " #   Column                  Non-Null Count  Dtype  \n",
      "---  ------                  --------------  -----  \n",
      " 0   DOI                     5000 non-null   object \n",
      " 1   Date                    4555 non-null   object \n",
      " 2   Journal                 4555 non-null   object \n",
      " 3   Title                   4555 non-null   object \n",
      " 4   Name                    4992 non-null   object \n",
      " 5   measurement_error       5000 non-null   float64\n",
      " 6   measurement_wavelength  597 non-null    object \n",
      " 7   measurement_method      5000 non-null   object \n",
      " 8   normalised_name         2994 non-null   object \n",
      " 9   raw_value               5000 non-null   object \n",
      " 10  specifier               5000 non-null   object \n",
      "dtypes: float64(1), object(10)\n",
      "memory usage: 429.8+ KB\n"
     ]
    }
   ],
   "source": [
    "data.info()"
   ]
  },
  {
   "cell_type": "markdown",
   "id": "9681eff1",
   "metadata": {},
   "source": [
    "The following cleansing aspects are needed:\n",
    "- extract journal names and years from DOI column\n",
    "- find missing Titles\n",
    "- find missing Names\n",
    "- find missing normalised_names and uniform them\n",
    "- uniform 'raw_value' column"
   ]
  },
  {
   "cell_type": "markdown",
   "id": "d282dc3f",
   "metadata": {},
   "source": [
    "### Handling duplicates"
   ]
  },
  {
   "cell_type": "code",
   "execution_count": 405,
   "id": "b6facc20",
   "metadata": {},
   "outputs": [
    {
     "data": {
      "text/plain": [
       "22"
      ]
     },
     "execution_count": 405,
     "metadata": {},
     "output_type": "execute_result"
    }
   ],
   "source": [
    "# number of duplicated rows\n",
    "data.duplicated().sum()"
   ]
  },
  {
   "cell_type": "code",
   "execution_count": 406,
   "id": "6489897f",
   "metadata": {},
   "outputs": [
    {
     "data": {
      "text/plain": [
       "(4978, 11)"
      ]
     },
     "execution_count": 406,
     "metadata": {},
     "output_type": "execute_result"
    }
   ],
   "source": [
    "# keep only one of two duplicates\n",
    "data = data.drop_duplicates(keep='first')\n",
    "data.shape"
   ]
  },
  {
   "cell_type": "markdown",
   "id": "c02e7472",
   "metadata": {},
   "source": [
    "### Fixing the 'raw_value' column"
   ]
  },
  {
   "cell_type": "code",
   "execution_count": 407,
   "id": "1d6ad9ae",
   "metadata": {},
   "outputs": [],
   "source": [
    "def remove_range(string):\n",
    "    \"\"\"converts ranges into average value\"\"\"\n",
    "    replace_items = ['–', 'to', ', ', '−', '…', '/', '~']\n",
    "    for i in replace_items:\n",
    "        if i in string:\n",
    "            string = string.replace(i, '∼')\n",
    "    if string[0]=='∼':\n",
    "        string = string[1:]\n",
    "    else:\n",
    "        splitted_string = string.split('∼')\n",
    "        try:\n",
    "            string = str((float(splitted_string[0])+float(splitted_string[1]))/2)\n",
    "        except:\n",
    "            string = splitted_string[0]\n",
    "    return string\n",
    "\n",
    "def remove_bracket(string):\n",
    "    \"\"\"removes brackets from values\"\"\"\n",
    "    string = string.replace('[', '(')\n",
    "    string = string.replace(']', ')')\n",
    "    import re\n",
    "    if '(' in string:\n",
    "        string = re.sub(r'\\(.*?\\)\\ *', '', string)\n",
    "        string = string.replace(' ', '')\n",
    "    return string\n",
    "\n",
    "def remove_error(string):\n",
    "    \"\"\"removes measurement error\"\"\"\n",
    "    replace_items = [' ± ', '+']\n",
    "    for i in replace_items:\n",
    "        if i in string:\n",
    "            string = string.replace(i, '±')\n",
    "    if ' ± ' in string:\n",
    "        splitted_string = string.split(' ± ')\n",
    "    else:\n",
    "        splitted_string = string.split('±')\n",
    "    string = splitted_string[0]\n",
    "    error = splitted_string[1]\n",
    "    return [string, error]"
   ]
  },
  {
   "cell_type": "code",
   "execution_count": 411,
   "id": "951535f9",
   "metadata": {},
   "outputs": [],
   "source": [
    "for idx in data.index:\n",
    "    v = data.loc[idx, 'raw_value']\n",
    "    if '(' in v or '[':\n",
    "        v = remove_bracket(v)\n",
    "    if '±' in v or '+' in v:\n",
    "        v = remove_error(v)[0]\n",
    "        try:\n",
    "            data.at[idx, 'measurement_error'] = remove_error(v)[1]\n",
    "        except:\n",
    "            pass\n",
    "    if '∼' in v or '~' in v or '–' in v or 'to' in v or ', ' in v or '…' in v or '/' in v or '−' in v:\n",
    "        v = remove_range(v)\n",
    "    data.at[idx, 'raw_value'] = v"
   ]
  },
  {
   "cell_type": "code",
   "execution_count": 413,
   "id": "a2601ceb",
   "metadata": {},
   "outputs": [
    {
     "name": "stdout",
     "output_type": "stream",
     "text": [
      "Unhandled v = <2 in row 470\n",
      "Unhandled v = 1.30 2.00 1.97 in row 1454\n",
      "Unhandled v = 1.401b in row 1569\n",
      "Unhandled v = 1.50000294,15 in row 2725\n",
      "Unhandled v = 1.878 1.282 1.258 in row 4252\n",
      "Unhandled v = 2.92 2.79 2.68 in row 4689\n"
     ]
    }
   ],
   "source": [
    "# print unhandled values\n",
    "for idx in data.index:\n",
    "    v = data.loc[idx, 'raw_value']\n",
    "    try:\n",
    "        float(v)\n",
    "    except:\n",
    "        print(f'Unhandled v = {v} in row {idx}')"
   ]
  },
  {
   "cell_type": "code",
   "execution_count": 414,
   "id": "34e4b787",
   "metadata": {},
   "outputs": [
    {
     "name": "stdout",
     "output_type": "stream",
     "text": [
      "<class 'pandas.core.series.Series'>\n",
      "RangeIndex: 4973 entries, 0 to 4972\n",
      "Series name: raw_value\n",
      "Non-Null Count  Dtype  \n",
      "--------------  -----  \n",
      "4973 non-null   float64\n",
      "dtypes: float64(1)\n",
      "memory usage: 39.0 KB\n"
     ]
    }
   ],
   "source": [
    "# drop invalid values and reset indexes\n",
    "data = data.drop(labels=[470, 1454, 2725, 4252, 4689], axis=0)\n",
    "# fix one value manually\n",
    "data.at[1569, 'raw_value'] = '1.401'\n",
    "# reset indexes\n",
    "data.reset_index(inplace=True)\n",
    "# convert everythinf into float\n",
    "data['raw_value'] = data['raw_value'].apply(lambda x: float(x))\n",
    "# check if the column has a float type finally\n",
    "data['raw_value'].info()"
   ]
  },
  {
   "cell_type": "markdown",
   "id": "5092414b",
   "metadata": {},
   "source": [
    "### Handling outliers"
   ]
  },
  {
   "cell_type": "code",
   "execution_count": 415,
   "id": "ac250564",
   "metadata": {},
   "outputs": [
    {
     "data": {
      "image/png": "[encoded data removed]",
      "text/plain": [
       "<Figure size 1300x400 with 2 Axes>"
      ]
     },
     "metadata": {},
     "output_type": "display_data"
    }
   ],
   "source": [
    "# outliers can be detected with the help of visualization tools\n",
    "fig, axs = plt.subplots(ncols=2, figsize=(13, 4))\n",
    "sns.set_style('whitegrid')\n",
    "sns.histplot(data['raw_value'], kde = False, bins = 30, ax=axs[0])\n",
    "sns.boxplot(x=data['raw_value'], ax=axs[1])\n",
    "plt.show()"
   ]
  },
  {
   "cell_type": "markdown",
   "id": "5cb6f199",
   "metadata": {},
   "source": [
    "On the histogram and boxplot wee see that our data is skewed to minimum values and most of the data is located in the range from 1 to 3."
   ]
  },
  {
   "cell_type": "code",
   "execution_count": 416,
   "id": "7df7175d",
   "metadata": {},
   "outputs": [
    {
     "data": {
      "text/plain": [
       "(4453, 12)"
      ]
     },
     "execution_count": 416,
     "metadata": {},
     "output_type": "execute_result"
    }
   ],
   "source": [
    "# remove outliers using boxplot\n",
    "Q1 = data['raw_value'].quantile(0.25)\n",
    "Q3 = data['raw_value'].quantile(0.75)\n",
    "IQR = Q3 - Q1\n",
    "\n",
    "filter = (data['raw_value'] >= Q1 - 1.5 * IQR) & (data['raw_value'] <= Q3 + 1.5 *IQR)\n",
    "data = data.loc[filter]\n",
    "data.shape"
   ]
  },
  {
   "cell_type": "markdown",
   "id": "c9833198",
   "metadata": {},
   "source": [
    "### Handling missing values in 'Name' and 'normalised_name'"
   ]
  },
  {
   "cell_type": "code",
   "execution_count": 417,
   "id": "4b149688",
   "metadata": {
    "scrolled": true
   },
   "outputs": [
    {
     "data": {
      "text/plain": [
       "index                      0.000000\n",
       "DOI                        0.000000\n",
       "Date                       9.431844\n",
       "Journal                    9.431844\n",
       "Title                      9.431844\n",
       "Name                       0.179654\n",
       "measurement_error          0.000000\n",
       "measurement_wavelength    87.514035\n",
       "measurement_method         0.000000\n",
       "normalised_name           40.332360\n",
       "raw_value                  0.000000\n",
       "specifier                  0.000000\n",
       "dtype: float64"
      ]
     },
     "execution_count": 417,
     "metadata": {},
     "output_type": "execute_result"
    }
   ],
   "source": [
    "# % of missing values for every column\n",
    "data.isnull().sum() / data.shape[0] * 100"
   ]
  },
  {
   "cell_type": "code",
   "execution_count": 418,
   "id": "be703e21",
   "metadata": {},
   "outputs": [
    {
     "data": {
      "text/plain": [
       "9                CCCO\n",
       "3222        CCOC(C)=O\n",
       "3250        Cc1ccccc1\n",
       "3452      CCCCC(CC)CO\n",
       "3742    Nc1cccc(Cl)c1\n",
       "4007         O=[Si]=O\n",
       "4210          CC(C)=O\n",
       "4213        Nc1ccccc1\n",
       "Name: normalised_name, dtype: object"
      ]
     },
     "execution_count": 418,
     "metadata": {},
     "output_type": "execute_result"
    }
   ],
   "source": [
    "data_no_name = data[data['Name'].isna()==True]\n",
    "data_no_name['normalised_name']"
   ]
  },
  {
   "cell_type": "markdown",
   "id": "c4c85e33",
   "metadata": {},
   "source": [
    "We see that all missing names have SMILES in \"normalised_name\" column. So, we can obtain names by SMILES with the help of CIRpy library."
   ]
  },
  {
   "cell_type": "code",
   "execution_count": 419,
   "id": "ba2df8f7",
   "metadata": {},
   "outputs": [
    {
     "name": "stdout",
     "output_type": "stream",
     "text": [
      "CCCO Propan-1-ol\n",
      "CCOC(C)=O Ethyl acetate\n",
      "Cc1ccccc1 methylbenzene\n",
      "CCCCC(CC)CO 2-Ethylhexan-1-ol\n",
      "Nc1cccc(Cl)c1 3-Chloroaniline\n",
      "O=[Si]=O Dioxosilane\n",
      "CC(C)=O propan-2-one\n",
      "Nc1ccccc1 Aniline\n"
     ]
    }
   ],
   "source": [
    "# fill in gaps in \"Name\" column\n",
    "for idx in data.index:\n",
    "    if type(data.loc[idx, 'Name'])!=str:\n",
    "        norm_name = data.loc[idx, 'normalised_name']\n",
    "        new_name = cirpy.resolve(norm_name, 'iupac_name')\n",
    "        data.at[idx, 'Name'] = new_name\n",
    "        print(norm_name, new_name)"
   ]
  },
  {
   "cell_type": "code",
   "execution_count": 420,
   "id": "5d7434eb",
   "metadata": {},
   "outputs": [],
   "source": [
    "data.to_csv('C:/Users/User/Downloads/data_for_smiles.tsv', sep='\\t', index=False)"
   ]
  },
  {
   "cell_type": "markdown",
   "id": "d389f8a0",
   "metadata": {},
   "source": [
    "Now we can fill in missing values in \"normalised_name\" column with the help of PubChem API and CIRpy package. Even if \"normalised_name\" already exists we parse the line through the function, as we want all \"normalised_name\" values to be in SMILES format. SMILES format is necessary because most of the descriptors are calculated based on SMILES."
   ]
  },
  {
   "cell_type": "code",
   "execution_count": 77,
   "id": "55e43997",
   "metadata": {},
   "outputs": [],
   "source": [
    "for idx in data.index:\n",
    "    name = data.loc[idx, 'Name']\n",
    "    try:\n",
    "        smiles = pcp.get_compounds(name, 'formula')[0].isomeric_smiles\n",
    "        data.at[idx, 'normalised_name'] = smiles\n",
    "    except:\n",
    "        try:\n",
    "            smiles = pcp.get_compounds(name, 'name')[0].isomeric_smiles\n",
    "            data.at[idx, 'normalised_name'] = smiles\n",
    "        except:\n",
    "            data.at[idx, 'normalised_name'] = np.nan"
   ]
  },
  {
   "cell_type": "code",
   "execution_count": null,
   "id": "85df904d",
   "metadata": {},
   "outputs": [],
   "source": [
    "for idx in data.index:\n",
    "    smiles = data.loc[idx, 'normalised_name']\n",
    "    name = data.loc[idx, 'Name']\n",
    "    if type(smiles)!=str:\n",
    "        try:\n",
    "            new_smiles = cirpy.resolve(name, 'smiles')\n",
    "        except:\n",
    "            new_smiles = None\n",
    "        data.at[idx, 'normalised_name'] = new_smiles"
   ]
  },
  {
   "cell_type": "code",
   "execution_count": 2,
   "id": "d51bb935",
   "metadata": {},
   "outputs": [
    {
     "name": "stdout",
     "output_type": "stream",
     "text": [
      "<class 'pandas.core.frame.DataFrame'>\n",
      "RangeIndex: 4978 entries, 0 to 4977\n",
      "Data columns (total 11 columns):\n",
      " #   Column                  Non-Null Count  Dtype  \n",
      "---  ------                  --------------  -----  \n",
      " 0   DOI                     4978 non-null   object \n",
      " 1   Date                    4534 non-null   object \n",
      " 2   Journal                 4534 non-null   object \n",
      " 3   Title                   4534 non-null   object \n",
      " 4   Name                    4978 non-null   object \n",
      " 5   measurement_error       4978 non-null   float64\n",
      " 6   measurement_wavelength  596 non-null    object \n",
      " 7   measurement_method      4978 non-null   object \n",
      " 8   normalised_name         4368 non-null   object \n",
      " 9   raw_value               4978 non-null   object \n",
      " 10  specifier               4978 non-null   object \n",
      "dtypes: float64(1), object(10)\n",
      "memory usage: 427.9+ KB\n"
     ]
    }
   ],
   "source": [
    "# result dataset (programming was made by supercomputer)\n",
    "data = pd.read_csv(\"C:\\\\Users\\\\User\\Downloads\\\\data_final.tsv\", delimiter='\\t')\n",
    "data.info()"
   ]
  },
  {
   "cell_type": "markdown",
   "id": "be744813",
   "metadata": {},
   "source": [
    "There are still missing SMILES. Among them we created a dictionary of names that can be eather corrected or converted to SMILES separately. Other names are deleted because they can not be converted into SMILES unambigously (ex. SnOx)."
   ]
  },
  {
   "cell_type": "code",
   "execution_count": 15,
   "id": "e86434fc",
   "metadata": {},
   "outputs": [],
   "source": [
    "d_correct = {\n",
    "            'As40Se60':'As2Se3', 'NMFA':'N-methyl-2-fluoroaniline', 'BiZnBo–':'BiZnBO', 'Si–O':'Si–O',\n",
    "             'Li2O–GeO2':'Li2O–GeO2', 'GeO2–PbO':'GeO2–PbO', \"TiO2's\":'TiO2', 'ZnO–Ta2O5–B2O3':'ZnO–Ta2O5–B2O3',\n",
    "             'CaO–SiO2':'CaO–SiO2', 'GeO2–Bi2O3':'GeO2–Bi2O3', 'Na2O–B2O3':'Na2O–B2O3', 'K2O–TeO2':'K2O–TeO2',\n",
    "             'CH3–CH2–O–CH2–CH3':'diethyl ether', 'MgO–PbF2–SiO2':'MgO–PbF2–SiO2', 'O–O':'O2', 'F–B':'F–B',\n",
    "             'PbO–Al2O3':'PbO–Al2O3', 'ZnO–Al2O3':'ZnO–Al2O3', '(−)–Sparteine':'Sparteine', 'PbF2–TeO2–B2O3–Eu2O3':'PbF2–TeO2–B2O3–Eu2O3',\n",
    "             'CaC2':'Calcium Carbide', 'SiO2 – SnO2':'SiO2–SnO2', 'Ag–ZnO':'Ag–ZnO', 'ZnO –':'ZnO', 'La2O3–B2O3':'La2O3–B2O3',\n",
    "             'PbO–Sb2O3–B2O3':'PbO–Sb2O3–B2O3', 'BPA–':'BPA', 'Na2O–SiO2':'Na2O–SiO2', 'SiO2(OH)':'HO3Si', 'TeO2–':'TeO2',\n",
    "             'CH3(CH2)3OH':'butanol', 'TiO2(l)':'TiO2', 'Al(PO3)3':'AlP3O9', 'AgI–B2O3:V2O5':'AgI–B2O3–V2O5',\n",
    "             'CaF2–Y2O3–ZnO':'CaF2–Y2O3–ZnO', 'Sb2O3–Na2O':'Sb2O3–Na2O', 'Te–Te':'Te–Te', 'TeO2–BaF2':'TeO2–BaF2',\n",
    "             'SiO2–':'SiO2', 'K2O–B2O3':'K2O–B2O3', 'Ge–Ga–S':'Ge–Ga–S', 'NO3−':'nitrate', 'CuSO4·H2O':'copper sulfate monohydrate',\n",
    "             'Li2O–Y2O3':'Li2O–Y2O3', 'PbF2–TeO2–B2O3–Sm2O3':'PbF2–TeO2–B2O3–Sm2O3', 'CuSO4·5H2O':'copper sulfate pentahydrate',\n",
    "             'Na2CO3_aq_23':'Na2CO3', 'GeO2–SiO2':'GeO2–SiO2', 'GeS2–As2S3':'GeS2–As2S3', 'TeO2–B2O3–ZnO':'TeO2–B2O3–ZnO',\n",
    "             'PbO–Bi2O3':'PbO–Bi2O3', 'ZnSb(wt':'ZnSb', 'K2O–B2O3–Bi2O3':'K2O–B2O3–Bi2O3', 'In2O3–Sc2O3':'In2O3–Sc2O3',\n",
    "             'ZnO–B2O3':'ZnO–B2O3', 'TiO2–TeO2':'TiO2–TeO2', 'V2O5–GeO2':'V2O5–GeO2', 'Bi2O3–SiO2':'Bi2O3–SiO2',\n",
    "             'SiO2–Nb2O5':'SiO2–Nb2O5', 'B2O3–SiO2':'B2O3–SiO2', 'SiC(100)':'SiC', 'SiO2–ZrO2':'SiO2–ZrO2',\n",
    "             'MgO(1 0 0 )':'MgO', 'BaF2–PrF3':'BaF2–PrF3', 'PbO−PbF2−B2O3–Nd2O3':'PbO−PbF2−B2O3–Nd2O3', 'GeS2–Ga2S3–CdS':'GeS2–Ga2S3–CdS',\n",
    "             'ZnF2–WO3–TeO2':'ZnF2–WO3–TeO2', 'Cd–Se':'Cd–Se', 'SiO2·P2O5':'SiO2–P2O5', 'PbO–TeO2':'PbO–TeO2',\n",
    "             'TiO2–SiO2':'TiO2–SiO2', 'NO2–BF':'NO2–BF', 'Na2O–P2O5':'Na2O–P2O5'\n",
    "             }"
   ]
  },
  {
   "cell_type": "code",
   "execution_count": 16,
   "id": "a72898de",
   "metadata": {},
   "outputs": [],
   "source": [
    "def complex_smiles(name):\n",
    "    \"\"\"makes joint SMILES from a system of molecules (like A-B-C)\"\"\"\n",
    "    smiles_list = []\n",
    "    names = name.split('–')\n",
    "    for n in names:\n",
    "        try:\n",
    "            smiles = pcp.get_compounds(n, 'formula')[0].isomeric_smiles\n",
    "        except:\n",
    "            smiles = pcp.get_compounds(n, 'name')[0].isomeric_smiles\n",
    "        smiles_list.append(smiles)\n",
    "    return '.'.join(smiles_list)"
   ]
  },
  {
   "cell_type": "code",
   "execution_count": 17,
   "id": "76604d1d",
   "metadata": {},
   "outputs": [
    {
     "data": {
      "text/plain": [
       "{'As40Se60': '[As](=[Se])[Se][As]=[Se]',\n",
       " 'NMFA': 'CNC1=CC=CC=C1F',\n",
       " 'BiZnBo–': '[B]=O.[Zn].[Bi]',\n",
       " 'Si–O': '[Si].[O-2]',\n",
       " 'Li2O–GeO2': '[Li+].[Li+].[O-2].O=[Ge]=O',\n",
       " 'GeO2–PbO': 'O=[Ge]=O.O=[Pb]',\n",
       " \"TiO2's\": 'O=[Ti]=O',\n",
       " 'ZnO–Ta2O5–B2O3': '[O-2].[Zn+2].[O-2].[O-2].[O-2].[O-2].[O-2].[Ta+5].[Ta+5].B(=O)OB=O',\n",
       " 'CaO–SiO2': 'O=[Ca].O=[Si]=O',\n",
       " 'GeO2–Bi2O3': 'O=[Ge]=O.O=[Bi]O[Bi]=O',\n",
       " 'Na2O–B2O3': '[O-2].[Na+].[Na+].B(=O)OB=O',\n",
       " 'K2O–TeO2': '[O-2].[K+].[K+].O=[Te]=O',\n",
       " 'CH3–CH2–O–CH2–CH3': 'CCOCC',\n",
       " 'MgO–PbF2–SiO2': 'O=[Mg].F[Pb]F.O=[Si]=O',\n",
       " 'O–O': 'O=O',\n",
       " 'F–B': '[F-].[B]',\n",
       " 'PbO–Al2O3': 'O=[Pb].[O-2].[O-2].[O-2].[Al+3].[Al+3]',\n",
       " 'ZnO–Al2O3': '[O-2].[Zn+2].[O-2].[O-2].[O-2].[Al+3].[Al+3]',\n",
       " '(−)–Sparteine': 'C1CCN2C[C@@H]3C[C@H]([C@H]2C1)CN4[C@H]3CCCC4',\n",
       " 'PbF2–TeO2–B2O3–Eu2O3': 'F[Pb]F.O=[Te]=O.B(=O)OB=O.[O-2].[O-2].[O-2].[Eu+3].[Eu+3]',\n",
       " 'CaC2': None,\n",
       " 'SiO2 – SnO2': 'O=[Si]=O.O=[Sn]=O',\n",
       " 'Ag–ZnO': '[Ag].[O-2].[Zn+2]',\n",
       " 'ZnO –': '[O-2].[Zn+2]',\n",
       " 'La2O3–B2O3': '[O-2].[O-2].[O-2].[La+3].[La+3].B(=O)OB=O',\n",
       " 'PbO–Sb2O3–B2O3': 'O=[Pb].[O-2].[O-2].[O-2].[Sb+3].[Sb+3].B(=O)OB=O',\n",
       " 'BPA–': 'CC(C)(C1=CC=C(C=C1)O)C2=CC=C(C=C2)O',\n",
       " 'Na2O–SiO2': '[O-2].[Na+].[Na+].O=[Si]=O',\n",
       " 'SiO2(OH)': 'O[Si](=O)[O-]',\n",
       " 'TeO2–': 'O=[Te]=O',\n",
       " 'CH3(CH2)3OH': 'CCCCO',\n",
       " 'TiO2(l)': 'O=[Ti]=O',\n",
       " 'Al(PO3)3': '[O-]P(=O)=O.[O-]P(=O)=O.[O-]P(=O)=O.[Al+3]',\n",
       " 'AgI–B2O3:V2O5': '[Ag]I.B(=O)OB=O.O=[V](=O)O[V](=O)=O',\n",
       " 'CaF2–Y2O3–ZnO': '[F-].[F-].[Ca+2].[O-2].[O-2].[O-2].[Y+3].[Y+3].[O-2].[Zn+2]',\n",
       " 'Sb2O3–Na2O': '[O-2].[O-2].[O-2].[Sb+3].[Sb+3].[O-2].[Na+].[Na+]',\n",
       " 'Te–Te': '[Te].[Te]',\n",
       " 'TeO2–BaF2': 'O=[Te]=O.[F-].[F-].[Ba+2]',\n",
       " 'SiO2–': 'O=[Si]=O',\n",
       " 'K2O–B2O3': '[O-2].[K+].[K+].B(=O)OB=O',\n",
       " 'Ge–Ga–S': '[Ge].[Ga].[S]',\n",
       " 'NO3−': '[N+](=O)([O-])[O-]',\n",
       " 'CuSO4·H2O': 'O.[O-]S(=O)(=O)[O-].[Cu+2]',\n",
       " 'Li2O–Y2O3': '[Li+].[Li+].[O-2].[O-2].[O-2].[O-2].[Y+3].[Y+3]',\n",
       " 'PbF2–TeO2–B2O3–Sm2O3': 'F[Pb]F.O=[Te]=O.B(=O)OB=O.[O-2].[O-2].[O-2].[Sm+3].[Sm+3]',\n",
       " 'CuSO4·5H2O': 'O.O.O.O.O.[O-]S(=O)(=O)[O-].[Cu+2]',\n",
       " 'Na2CO3_aq_23': 'C(=O)([O-])[O-].[Na+].[Na+]',\n",
       " 'GeO2–SiO2': 'O=[Ge]=O.O=[Si]=O',\n",
       " 'GeS2–As2S3': 'S=[Ge]=S.S1[As]2S[As]1S2',\n",
       " 'TeO2–B2O3–ZnO': 'O=[Te]=O.B(=O)OB=O.[O-2].[Zn+2]',\n",
       " 'PbO–Bi2O3': 'O=[Pb].O=[Bi]O[Bi]=O',\n",
       " 'ZnSb(wt': '[Zn].[Sb]',\n",
       " 'K2O–B2O3–Bi2O3': '[O-2].[K+].[K+].B(=O)OB=O.O=[Bi]O[Bi]=O',\n",
       " 'In2O3–Sc2O3': '[O-2].[O-2].[O-2].[In+3].[In+3].[O-2].[O-2].[O-2].[Sc+3].[Sc+3]',\n",
       " 'ZnO–B2O3': '[O-2].[Zn+2].B(=O)OB=O',\n",
       " 'TiO2–TeO2': 'O=[Ti]=O.O=[Te]=O',\n",
       " 'V2O5–GeO2': 'O=[V](=O)O[V](=O)=O.O=[Ge]=O',\n",
       " 'Bi2O3–SiO2': 'O=[Bi]O[Bi]=O.O=[Si]=O',\n",
       " 'SiO2–Nb2O5': 'O=[Si]=O.O=[Nb](=O)O[Nb](=O)=O',\n",
       " 'B2O3–SiO2': 'B(=O)OB=O.O=[Si]=O',\n",
       " 'SiC(100)': '[C-]#[Si+]',\n",
       " 'SiO2–ZrO2': 'O=[Si]=O.O=[Zr]=O',\n",
       " 'MgO(1 0 0 )': 'O=[Mg]',\n",
       " 'BaF2–PrF3': '[F-].[F-].[Ba+2].F[Pr](F)F',\n",
       " 'PbO−PbF2−B2O3–Nd2O3': None,\n",
       " 'GeS2–Ga2S3–CdS': 'S=[Ge]=S.[S-2].[S-2].[S-2].[Ga+3].[Ga+3].S=[Cd]',\n",
       " 'ZnF2–WO3–TeO2': '[F-].[F-].[Zn+2].O=[W](=O)=O.O=[Te]=O',\n",
       " 'Cd–Se': '[Cd].[Se]',\n",
       " 'SiO2·P2O5': 'O=[Si]=O.O=P(=O)OP(=O)=O',\n",
       " 'PbO–TeO2': 'O=[Pb].O=[Te]=O',\n",
       " 'TiO2–SiO2': 'O=[Ti]=O.O=[Si]=O',\n",
       " 'NO2–BF': 'N(=O)[O].[B]F',\n",
       " 'Na2O–P2O5': '[O-2].[Na+].[Na+].O=P(=O)OP(=O)=O'}"
      ]
     },
     "execution_count": 17,
     "metadata": {},
     "output_type": "execute_result"
    }
   ],
   "source": [
    "for k, v in d_correct.items():\n",
    "    if '–' in v:\n",
    "        try:\n",
    "            d_correct[k] = complex_smiles(v)\n",
    "        except:\n",
    "             d_correct[k] = None\n",
    "    else:\n",
    "        try:\n",
    "            smiles = pcp.get_compounds(v, 'formula')[0].isomeric_smiles\n",
    "            d_correct[k] = smiles\n",
    "        except:\n",
    "            try:\n",
    "                smiles = pcp.get_compounds(v, 'name')[0].isomeric_smiles\n",
    "                d_correct[k] = smiles\n",
    "            except:\n",
    "                d_correct[k] = None\n",
    "d_correct"
   ]
  },
  {
   "cell_type": "code",
   "execution_count": 18,
   "id": "efdb6acd",
   "metadata": {},
   "outputs": [
    {
     "name": "stdout",
     "output_type": "stream",
     "text": [
      "<class 'pandas.core.series.Series'>\n",
      "Int64Index: 4468 entries, 0 to 4977\n",
      "Series name: normalised_name\n",
      "Non-Null Count  Dtype \n",
      "--------------  ----- \n",
      "4463 non-null   object\n",
      "dtypes: object(1)\n",
      "memory usage: 198.9+ KB\n"
     ]
    }
   ],
   "source": [
    "# move SMILES from dictionary to our DataFrame\n",
    "for idx in data.index:\n",
    "    name = data.loc[idx, 'Name']\n",
    "    if name in d_correct.keys():\n",
    "        data.at[idx, 'normalised_name'] = d_correct[name]\n",
    "data['normalised_name'].info()"
   ]
  },
  {
   "cell_type": "code",
   "execution_count": 19,
   "id": "4118f4e8",
   "metadata": {},
   "outputs": [],
   "source": [
    "# delete rows with missing \"normalised_name\"\n",
    "data = data[data['normalised_name'].isna()==False]"
   ]
  },
  {
   "cell_type": "code",
   "execution_count": 27,
   "id": "be41f205",
   "metadata": {},
   "outputs": [
    {
     "name": "stdout",
     "output_type": "stream",
     "text": [
      "Invalid smiles: C.C.O.CN[OH]C in row 613 for name CH3O(CH2CH2O)nCH3\n",
      "Invalid smiles: [CH222]O in row 699 for name CH222-OH\n",
      "Invalid smiles: O(|[Sn](CCCC)(CCCC)CCCC)|[Sn](CCCC)(CCCC)CCCC in row 836 for name BTO\n",
      "Invalid smiles: B(P)[II] in row 1306 for name Pb[II]\n",
      "Invalid smiles: O(|[Sn](CCCC)(CCCC)CCCC)|[Sn](CCCC)(CCCC)CCCC in row 2042 for name BTO\n"
     ]
    }
   ],
   "source": [
    "# check if all the SMILES are valid (invalid SMILES can not be handled by RDKit)\n",
    "for idx in data.index:\n",
    "    smiles = data.loc[idx, 'normalised_name']\n",
    "    name = data.loc[idx, 'Name']\n",
    "    mol = Chem.MolFromSmiles(smiles)\n",
    "    if mol == None:\n",
    "        print(f'Invalid smiles: {smiles} in row {idx} for name {name}')"
   ]
  },
  {
   "cell_type": "code",
   "execution_count": 29,
   "id": "d35618f0",
   "metadata": {},
   "outputs": [],
   "source": [
    "# correction of invalid SMILES\n",
    "data.loc[4, 'normalised_name'] = 'N.N.[Pt+2]'\n",
    "data.loc[1306, 'normalised_name'] = '[Pb+2]'\n",
    "data.loc[836, 'normalised_name'] = 'CCCC[Sn](CCCC)(CCCC)O[Sn](CCCC)(CCCC)CCCC'\n",
    "data.loc[2042, 'normalised_name'] = 'CCCC[Sn](CCCC)(CCCC)O[Sn](CCCC)(CCCC)CCCC'\n",
    "data = data.drop(labels=[613, 699], axis=0) # delete two rows because SMILES can not be corrected"
   ]
  },
  {
   "cell_type": "markdown",
   "id": "657984d3",
   "metadata": {},
   "source": [
    "### Fixing the DOI column"
   ]
  },
  {
   "cell_type": "markdown",
   "id": "aab0fd2f",
   "metadata": {},
   "source": [
    "To clean the DOI column we applied regular expressions (regex). Extracted DOI is places into 'DOI' column and journal name is places into 'Journal' column."
   ]
  },
  {
   "cell_type": "code",
   "execution_count": null,
   "id": "64064a12",
   "metadata": {},
   "outputs": [],
   "source": [
    "regex = (r'((10\\.\\d{4,9}/[A-Z0-9]+[A-Z])|(10\\.\\d{4,9}/[-._;()/:a-zA-Z0-9]+(-[A-Za-z]{1}))|(10\\.\\d{4,9}/[-._;()/:a-zA-Z0-9]+[0-9]))')\n",
    "for idx in data.index:\n",
    "    doi = data.loc[idx, 'DOI']\n",
    "    extracted_doi = re.search(regex, doi).group(1)\n",
    "    journal = doi.replace(extracted_doi, '')\n",
    "    data.at[idx, 'DOI'] = extracted_doi\n",
    "    if type(data.at[idx, 'Journal'])!=str and journal!='':\n",
    "        data.at[idx, 'Journal'] = journal"
   ]
  },
  {
   "cell_type": "code",
   "execution_count": null,
   "id": "cfec5398",
   "metadata": {},
   "outputs": [],
   "source": [
    "# parse titles of articles from GoogleScholar by their doi\n",
    "for idx in data.index:\n",
    "    title = data.loc[idx, 'Title']\n",
    "    doi = data.loc[idx, 'DOI']\n",
    "    if type(title)!=str:\n",
    "        doi = doi.replace('/', '%2F')\n",
    "        url = f'https://scholar.google.ru/scholar?hl=ru&as_sdt=0%2C5&q={doi}&btnG='\n",
    "        response = requests.get(url)\n",
    "        soup = BeautifulSoup(response.text, 'lxml')\n",
    "        title = soup.find('h3', class_='gs_rt')\n",
    "        if title!=None:\n",
    "            data.loc[idx, 'Title'] = title.text\n",
    "data.info()"
   ]
  },
  {
   "cell_type": "markdown",
   "id": "91f1e8c7",
   "metadata": {},
   "source": [
    "### Descriptors search"
   ]
  },
  {
   "cell_type": "markdown",
   "id": "1668f127",
   "metadata": {},
   "source": [
    "We use RDKit API, PubChem API, and a python wrapper for PaDEL-Descriptor software to find descriptors."
   ]
  },
  {
   "cell_type": "code",
   "execution_count": 30,
   "id": "76b5cd89",
   "metadata": {},
   "outputs": [],
   "source": [
    "def getMolDescriptors(mol, missingVal=None):\n",
    "    \"\"\"calculate the full list of RDKit descriptors for a molecule\"\"\"\n",
    "    \"\"\"missingVal is used when descriptor cannot be calculated\"\"\"\n",
    "    res = {}\n",
    "    for nm,fn in Descriptors._descList:\n",
    "        try:\n",
    "            val = fn(mol)\n",
    "        except:\n",
    "            import traceback\n",
    "            traceback.print_exc()\n",
    "            val = missingVal\n",
    "        res[nm] = val\n",
    "    return res"
   ]
  },
  {
   "cell_type": "code",
   "execution_count": 31,
   "id": "4f910ba2",
   "metadata": {},
   "outputs": [
    {
     "data": {
      "text/html": [
       "<div>\n",
       "<style scoped>\n",
       "    .dataframe tbody tr th:only-of-type {\n",
       "        vertical-align: middle;\n",
       "    }\n",
       "\n",
       "    .dataframe tbody tr th {\n",
       "        vertical-align: top;\n",
       "    }\n",
       "\n",
       "    .dataframe thead th {\n",
       "        text-align: right;\n",
       "    }\n",
       "</style>\n",
       "<table border=\"1\" class=\"dataframe\">\n",
       "  <thead>\n",
       "    <tr style=\"text-align: right;\">\n",
       "      <th></th>\n",
       "      <th>MaxEStateIndex</th>\n",
       "      <th>MinEStateIndex</th>\n",
       "      <th>MaxAbsEStateIndex</th>\n",
       "      <th>MinAbsEStateIndex</th>\n",
       "      <th>qed</th>\n",
       "      <th>MolWt</th>\n",
       "      <th>HeavyAtomMolWt</th>\n",
       "      <th>ExactMolWt</th>\n",
       "      <th>NumValenceElectrons</th>\n",
       "      <th>NumRadicalElectrons</th>\n",
       "      <th>...</th>\n",
       "      <th>fr_sulfide</th>\n",
       "      <th>fr_sulfonamd</th>\n",
       "      <th>fr_sulfone</th>\n",
       "      <th>fr_term_acetylene</th>\n",
       "      <th>fr_tetrazole</th>\n",
       "      <th>fr_thiazole</th>\n",
       "      <th>fr_thiocyan</th>\n",
       "      <th>fr_thiophene</th>\n",
       "      <th>fr_unbrch_alkane</th>\n",
       "      <th>fr_urea</th>\n",
       "    </tr>\n",
       "  </thead>\n",
       "  <tbody>\n",
       "    <tr>\n",
       "      <th>0</th>\n",
       "      <td>0.000000</td>\n",
       "      <td>0.000000</td>\n",
       "      <td>0.000000</td>\n",
       "      <td>0.000000</td>\n",
       "      <td>0.494829</td>\n",
       "      <td>291.189</td>\n",
       "      <td>291.189</td>\n",
       "      <td>291.689311</td>\n",
       "      <td>28</td>\n",
       "      <td>4</td>\n",
       "      <td>...</td>\n",
       "      <td>0</td>\n",
       "      <td>0</td>\n",
       "      <td>0</td>\n",
       "      <td>0</td>\n",
       "      <td>0</td>\n",
       "      <td>0</td>\n",
       "      <td>0</td>\n",
       "      <td>0</td>\n",
       "      <td>0</td>\n",
       "      <td>0</td>\n",
       "    </tr>\n",
       "    <tr>\n",
       "      <th>1</th>\n",
       "      <td>5.833333</td>\n",
       "      <td>0.833333</td>\n",
       "      <td>5.833333</td>\n",
       "      <td>0.833333</td>\n",
       "      <td>0.480843</td>\n",
       "      <td>195.851</td>\n",
       "      <td>195.851</td>\n",
       "      <td>195.950931</td>\n",
       "      <td>10</td>\n",
       "      <td>1</td>\n",
       "      <td>...</td>\n",
       "      <td>0</td>\n",
       "      <td>0</td>\n",
       "      <td>0</td>\n",
       "      <td>0</td>\n",
       "      <td>0</td>\n",
       "      <td>0</td>\n",
       "      <td>0</td>\n",
       "      <td>0</td>\n",
       "      <td>0</td>\n",
       "      <td>0</td>\n",
       "    </tr>\n",
       "    <tr>\n",
       "      <th>2</th>\n",
       "      <td>0.000000</td>\n",
       "      <td>0.000000</td>\n",
       "      <td>0.000000</td>\n",
       "      <td>0.000000</td>\n",
       "      <td>0.499104</td>\n",
       "      <td>255.200</td>\n",
       "      <td>255.200</td>\n",
       "      <td>259.812449</td>\n",
       "      <td>12</td>\n",
       "      <td>4</td>\n",
       "      <td>...</td>\n",
       "      <td>0</td>\n",
       "      <td>0</td>\n",
       "      <td>0</td>\n",
       "      <td>0</td>\n",
       "      <td>0</td>\n",
       "      <td>0</td>\n",
       "      <td>0</td>\n",
       "      <td>0</td>\n",
       "      <td>0</td>\n",
       "      <td>0</td>\n",
       "    </tr>\n",
       "    <tr>\n",
       "      <th>3</th>\n",
       "      <td>5.555556</td>\n",
       "      <td>2.222222</td>\n",
       "      <td>5.555556</td>\n",
       "      <td>2.222222</td>\n",
       "      <td>0.256934</td>\n",
       "      <td>40.097</td>\n",
       "      <td>40.097</td>\n",
       "      <td>39.976927</td>\n",
       "      <td>8</td>\n",
       "      <td>0</td>\n",
       "      <td>...</td>\n",
       "      <td>0</td>\n",
       "      <td>0</td>\n",
       "      <td>0</td>\n",
       "      <td>0</td>\n",
       "      <td>0</td>\n",
       "      <td>0</td>\n",
       "      <td>0</td>\n",
       "      <td>0</td>\n",
       "      <td>0</td>\n",
       "      <td>0</td>\n",
       "    </tr>\n",
       "    <tr>\n",
       "      <th>4</th>\n",
       "      <td>0.000000</td>\n",
       "      <td>0.000000</td>\n",
       "      <td>0.000000</td>\n",
       "      <td>0.000000</td>\n",
       "      <td>0.627640</td>\n",
       "      <td>229.140</td>\n",
       "      <td>223.092</td>\n",
       "      <td>229.016792</td>\n",
       "      <td>24</td>\n",
       "      <td>0</td>\n",
       "      <td>...</td>\n",
       "      <td>0</td>\n",
       "      <td>0</td>\n",
       "      <td>0</td>\n",
       "      <td>0</td>\n",
       "      <td>0</td>\n",
       "      <td>0</td>\n",
       "      <td>0</td>\n",
       "      <td>0</td>\n",
       "      <td>0</td>\n",
       "      <td>0</td>\n",
       "    </tr>\n",
       "  </tbody>\n",
       "</table>\n",
       "<p>5 rows × 208 columns</p>\n",
       "</div>"
      ],
      "text/plain": [
       "   MaxEStateIndex  MinEStateIndex  MaxAbsEStateIndex  MinAbsEStateIndex  \\\n",
       "0        0.000000        0.000000           0.000000           0.000000   \n",
       "1        5.833333        0.833333           5.833333           0.833333   \n",
       "2        0.000000        0.000000           0.000000           0.000000   \n",
       "3        5.555556        2.222222           5.555556           2.222222   \n",
       "4        0.000000        0.000000           0.000000           0.000000   \n",
       "\n",
       "        qed    MolWt  HeavyAtomMolWt  ExactMolWt  NumValenceElectrons  \\\n",
       "0  0.494829  291.189         291.189  291.689311                   28   \n",
       "1  0.480843  195.851         195.851  195.950931                   10   \n",
       "2  0.499104  255.200         255.200  259.812449                   12   \n",
       "3  0.256934   40.097          40.097   39.976927                    8   \n",
       "4  0.627640  229.140         223.092  229.016792                   24   \n",
       "\n",
       "   NumRadicalElectrons  ...  fr_sulfide  fr_sulfonamd  fr_sulfone  \\\n",
       "0                    4  ...           0             0           0   \n",
       "1                    1  ...           0             0           0   \n",
       "2                    4  ...           0             0           0   \n",
       "3                    0  ...           0             0           0   \n",
       "4                    0  ...           0             0           0   \n",
       "\n",
       "   fr_term_acetylene  fr_tetrazole  fr_thiazole  fr_thiocyan  fr_thiophene  \\\n",
       "0                  0             0            0            0             0   \n",
       "1                  0             0            0            0             0   \n",
       "2                  0             0            0            0             0   \n",
       "3                  0             0            0            0             0   \n",
       "4                  0             0            0            0             0   \n",
       "\n",
       "   fr_unbrch_alkane  fr_urea  \n",
       "0                 0        0  \n",
       "1                 0        0  \n",
       "2                 0        0  \n",
       "3                 0        0  \n",
       "4                 0        0  \n",
       "\n",
       "[5 rows x 208 columns]"
      ]
     },
     "execution_count": 31,
     "metadata": {},
     "output_type": "execute_result"
    }
   ],
   "source": [
    "# create a separate DataFrame with RDKit descriptors\n",
    "mols = []\n",
    "for smiles in data['normalised_name'].tolist():\n",
    "  mol = Chem.MolFromSmiles(smiles)\n",
    "  mols.append(mol)\n",
    "allDescrs = [getMolDescriptors(mol) for mol in mols]\n",
    "rdkit_data = pd.DataFrame(allDescrs)\n",
    "rdkit_data.head() # so we get 208 RDKit descriptors"
   ]
  },
  {
   "cell_type": "code",
   "execution_count": 22,
   "id": "6d3beaf4",
   "metadata": {},
   "outputs": [],
   "source": [
    "# create a separate DatFrame with PubChem descriptors\n",
    "properties = ['MonoisotopicMass',\n",
    "              'Complexity',\n",
    "              'IsotopeAtomCount',\n",
    "              'AtomStereoCount',\n",
    "              'DefinedAtomStereoCount',\n",
    "              'UndefinedAtomStereoCount',\n",
    "              'BondStereoCount',\n",
    "              'DefinedBondStereoCount',\n",
    "              'UndefinedBondStereoCount',\n",
    "              'CovalentUnitCount',\n",
    "              'Volume3D',\n",
    "              'XStericQuadrupole3D',\n",
    "              'YStericQuadrupole3D',\n",
    "              'ZStericQuadrupole3D',\n",
    "              'FeatureCount3D',\n",
    "              'FeatureRingCount3D',\n",
    "              'FeatureHydrophobeCount3D',\n",
    "              'ConformerModelRMSD3D',\n",
    "              'EffectiveRotorCount3D',\n",
    "              'ConformerCount3D',\n",
    "              'Charge']\n",
    "pubchem_descriptors = []\n",
    "for smiles in data['normalised_name'].tolist():\n",
    "  descriptors_list = []\n",
    "  for property in properties:\n",
    "      try:\n",
    "        p = pcp.get_properties(property, smiles, 'smiles')\n",
    "        descriptors_list.append(p[0][property])\n",
    "      except:\n",
    "        descriptors_list.append(None)\n",
    "  pubchem_descriptors.append(descriptors_list)\n",
    "pubchem_data = pd.DataFrame(columns=properties, data=pubchem_descriptors)\n",
    "pubchem_data.head()"
   ]
  },
  {
   "cell_type": "code",
   "execution_count": null,
   "id": "fac669cc",
   "metadata": {},
   "outputs": [],
   "source": [
    "# create a separate DatFrame with Materials Project descriptors\n",
    "with MPRester(\"VB1JmIovB0FutOai3Xb1ItnXhy9OkIDk\") as mpr:\n",
    "  mp_descriptors = []\n",
    "  for smiles in data['normalised_name'].tolist():\n",
    "    desc_list = []\n",
    "    docs = mpr.summary.search(formula='BN', fields=['nsites', 'nelements', 'chemsys', 'volume', 'density', 'density_atomic', 'symmetry', 'deprecated', 'deprecation_reasons', 'uncorrected_energy_per_atom', 'energy_per_atom', 'formation_energy_per_atom', 'energy_above_hull', 'is_stable', 'equilibrium_reaction_energy_per_atom', 'xas', 'grain_boundaries', 'band_gap', 'cbm', 'vbm', 'efermi', 'is_gap_direct', 'is_metal', 'dos_energy_up', 'dos_energy_down', 'is_magnetic', 'ordering', 'total_magnetization', 'total_magnetization_normalized_vol', 'total_magnetization_normalized_formula_units', 'num_magnetic_sites', 'num_unique_magnetic_sites', 'types_of_magnetic_species', 'k_voigt', 'k_reuss', 'k_vrh', 'g_voigt', 'g_reuss', 'g_vrh', 'universal_anisotropy', 'homogeneous_poisson', 'e_total', 'e_ionic', 'e_electronic', 'n', 'e_ij_max', 'weighted_surface_energy_EV_PER_ANG2', 'weighted_surface_energy', 'weighted_work_function', 'surface_anisotropy', 'shape_factor', 'has_reconstructed', 'theoretical'])\n",
    "    sym = str(docs[0].symmetry)\n",
    "    sym_word = sym.split(' ')[1]\n",
    "    sym_word = sym_word.translate(str.maketrans('', '', string.punctuation))\n",
    "    xas = str(docs[0].xas)\n",
    "    xas_edge = xas.split(' ')[1]\n",
    "    xas_edge = xas_edge.translate(str.maketrans('', '', string.punctuation))\n",
    "    xas_element = xas.split(' ')[3]\n",
    "    xas_type = xas.split(' ')[5]\n",
    "    xas_type = xas_type.translate(str.maketrans('', '', string.punctuation))\n",
    "    for i in [docs[0].nsites, docs[0].nelements, docs[0].chemsys, docs[0].volume, docs[0].density, docs[0].density_atomic, sym_word, docs[0].deprecated, docs[0].deprecation_reasons, docs[0].uncorrected_energy_per_atom, docs[0].energy_per_atom, docs[0].formation_energy_per_atom, docs[0].energy_above_hull, docs[0].is_stable, docs[0].equilibrium_reaction_energy_per_atom, xas_edge, xas_element, xas_type, docs[0].grain_boundaries, docs[0].band_gap, docs[0].cbm, docs[0].vbm, docs[0].efermi, docs[0].is_gap_direct, docs[0].is_metal, docs[0].dos_energy_up, docs[0].dos_energy_down, docs[0].is_magnetic, docs[0].ordering, docs[0].total_magnetization, docs[0].total_magnetization_normalized_vol, docs[0].total_magnetization_normalized_formula_units, docs[0].num_magnetic_sites, docs[0].num_unique_magnetic_sites, docs[0].types_of_magnetic_species, docs[0].k_voigt, docs[0].k_reuss, docs[0].k_vrh, docs[0].g_voigt, docs[0].g_reuss, docs[0].g_vrh, docs[0].universal_anisotropy, docs[0].homogeneous_poisson, docs[0].e_total, docs[0].e_ionic, docs[0].e_electronic, docs[0].n, docs[0].e_ij_max, docs[0].weighted_surface_energy_EV_PER_ANG2, docs[0].weighted_surface_energy, docs[0].weighted_work_function, docs[0].surface_anisotropy, docs[0].shape_factor, docs[0].has_reconstructed, docs[0].theoretical]:\n",
    "      desc_list.append(i)\n",
    "    mp_descriptors.append(desc_list)\n",
    "mp_data = pd.DataFrame(data=mp_descriptors)\n",
    "mp_data.head() # so we get Materials Project descriptors"
   ]
  },
  {
   "cell_type": "code",
   "execution_count": null,
   "id": "fc7a374d",
   "metadata": {},
   "outputs": [],
   "source": [
    "# create a separate DatFrame with PaDEL descriptors\n",
    "mols = [Chem.MolFromSmiles(smiles) for smiles in data['normalised_name'].tolist()]\n",
    "from rdkit.Chem import AllChem\n",
    "mols = [Chem.AddHs(mol) for mol in mols]\n",
    "mols = [AllChem.EmbedMolecule(mol) for mol in mols]\n",
    "descriptors = [AtomCount, BondCount, Constitutional, EStateAtomType, ExtendedTopochemicalAtom, MDE, MLFER, RotatableBondsCount, CarbonTypes, HBondAcceptorCount, HBondDonorCount, PathCount]\n",
    "padel = PaDEL(descriptors)\n",
    "padel_data = padel.calculate(mols)"
   ]
  },
  {
   "cell_type": "code",
   "execution_count": null,
   "id": "8311fea3",
   "metadata": {},
   "outputs": [],
   "source": [
    "# concatenate initial dataset with descriptors datasets\n",
    "frames = [data, rdkit_data, pubchem_data, padel_data]\n",
    "data_final = pd.concat(frames, axis=1)\n",
    "data_final"
   ]
  },
  {
   "cell_type": "markdown",
   "id": "20028e08",
   "metadata": {},
   "source": [
    "# Hometask №2"
   ]
  },
  {
   "cell_type": "markdown",
   "id": "85d51e10",
   "metadata": {},
   "source": [
    "### Data visualization & statistics"
   ]
  },
  {
   "cell_type": "code",
   "execution_count": null,
   "id": "20f9a6e9",
   "metadata": {},
   "outputs": [],
   "source": []
  }
 ],
 "metadata": {
  "kernelspec": {
   "display_name": "Python 3 (ipykernel)",
   "language": "python",
   "name": "python3"
  },
  "language_info": {
   "codemirror_mode": {
    "name": "ipython",
    "version": 3
   },
   "file_extension": ".py",
   "mimetype": "text/x-python",
   "name": "python",
   "nbconvert_exporter": "python",
   "pygments_lexer": "ipython3",
   "version": "3.10.9"
  },
  "vscode": {
   "interpreter": {
    "hash": "26de051ba29f2982a8de78e945f0abaf191376122a1563185a90213a26c5da77"
   }
  }
 },
 "nbformat": 4,
 "nbformat_minor": 5
}
